{
 "cells": [
  {
   "cell_type": "markdown",
   "metadata": {},
   "source": [
    "# 配置kubectl命令行补全\n",
    "\n",
    "```shell\n",
    "source <(kubectl completion bash)\n",
    "echo \"source <(kubectl completion bash)\" >> ~/.bashrc\n",
    "```\n",
    "\n",
    "```shell\n",
    "# windows\n",
    "PS C:\\Users\\Tracy> helm completion powershell | Out-String | Invoke-Expression\n",
    "PS C:\\Users\\Tracy> kubectl completion powershell | Out-String | Invoke-Expression\n",
    "\n",
    "# linux\n",
    "source <(helm completion bash)\n",
    "helm completion bash > /etc/bash_completion.d/helm\n",
    "```\n"
   ]
  },
  {
   "cell_type": "code",
   "execution_count": null,
   "metadata": {
    "vscode": {
     "languageId": "shellscript"
    }
   },
   "outputs": [],
   "source": [
    "# 批量解密secret的所有key\n",
    "kubectl -o go-template='{{range $k,$v := .data}}{{printf \"%s: \" $k}}{{if not $v}}{{$v}}{{else}}{{$v | base64decode}}{{end}}{{\"\\n\"}}{{end}}' get secret -n default xxx"
   ]
  },
  {
   "cell_type": "code",
   "execution_count": 3,
   "metadata": {
    "vscode": {
     "languageId": "shellscript"
    }
   },
   "outputs": [],
   "source": [
    "# 获取podname和image\n",
    "kubectl -o custom-columns=NAME:.metadata.name,IMAGE:.spec.containers[*].image -n devel get pods"
   ]
  },
  {
   "cell_type": "code",
   "execution_count": null,
   "metadata": {
    "vscode": {
     "languageId": "shellscript"
    }
   },
   "outputs": [],
   "source": [
    "kubectl apply -R -f ./directory"
   ]
  },
  {
   "cell_type": "code",
   "execution_count": null,
   "metadata": {
    "vscode": {
     "languageId": "shellscript"
    }
   },
   "outputs": [],
   "source": [
    "# 获取nodeName字段\n",
    "kubectl -o custom-columns=NAMESPACE:.metadata.namespace,NAME:.metadata.name,NODENAME:.spec.template.spec.nodeName get deploy,sts -A"
   ]
  },
  {
   "cell_type": "code",
   "execution_count": null,
   "metadata": {
    "vscode": {
     "languageId": "shellscript"
    }
   },
   "outputs": [],
   "source": [
    "# 获取workload的resources\n",
    "kubectl -o custom-columns=NAME:.metadata.name,CPUREQ:.spec.template.spec.containers[0].resources.requests.cpu,CPULIMITS:.spec.template.spec.containers[0].resources.limits.cpu,MEMREQ:.spec.template.spec.containers[0].resources.requests.memory,MEMLIMITS:.spec.template.spec.containers[0].resources.limits.memory "
   ]
  },
  {
   "cell_type": "code",
   "execution_count": null,
   "metadata": {
    "vscode": {
     "languageId": "shellscript"
    }
   },
   "outputs": [],
   "source": [
    "# explain 显示资源所有字段\n",
    "kubectl explain deploy --recursive\n",
    "\n",
    "kubectl explain deploy.spec.replicas"
   ]
  }
 ],
 "metadata": {
  "kernelspec": {
   "display_name": "Python 3",
   "language": "python",
   "name": "python3"
  },
  "language_info": {
   "codemirror_mode": {
    "name": "ipython",
    "version": 3
   },
   "file_extension": ".py",
   "mimetype": "text/x-python",
   "name": "python",
   "nbconvert_exporter": "python",
   "pygments_lexer": "ipython3",
   "version": "3.12.0"
  },
  "orig_nbformat": 4
 },
 "nbformat": 4,
 "nbformat_minor": 2
}
