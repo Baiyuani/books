{
 "cells": [
  {
   "attachments": {},
   "cell_type": "markdown",
   "metadata": {},
   "source": [
    "# etcdctl\n",
    "https://chromium.googlesource.com/external/github.com/coreos/etcd/+/release-3.0/etcdctl/README.md"
   ]
  },
  {
   "cell_type": "code",
   "execution_count": null,
   "metadata": {
    "vscode": {
     "languageId": "shellscript"
    }
   },
   "outputs": [],
   "source": [
    "# 查看成员列表\n",
    "etcdctl --endpoints 127.0.0.1:2379 \\\n",
    "    --cert=/etc/kubernetes/pki/etcd/server.crt \\\n",
    "    --key=/etc/kubernetes/pki/etcd/server.key \\\n",
    "    --cacert=/etc/kubernetes/pki/etcd/ca.crt \\\n",
    "    member list -w table\n",
    "\n",
    "# 查看leader\n",
    "etcdctl --endpoints 127.0.0.1:2379 \\\n",
    "    --cert=/etc/kubernetes/pki/etcd/server.crt \\\n",
    "    --key=/etc/kubernetes/pki/etcd/server.key \\\n",
    "    --cacert=/etc/kubernetes/pki/etcd/ca.crt \\\n",
    "    endpoint status --cluster -w table\n",
    "\n",
    "# 查看当前节点的健康状态\n",
    "etcdctl --endpoints 127.0.0.1:2379 \\\n",
    "    --cert=/etc/kubernetes/pki/etcd/server.crt \\\n",
    "    --key=/etc/kubernetes/pki/etcd/server.key \\\n",
    "    --cacert=/etc/kubernetes/pki/etcd/ca.crt \\\n",
    "    endpoint health\n",
    "\n",
    "# 对当前数据进行快照备份\n",
    "etcdctl --endpoints 127.0.0.1:2379 \\\n",
    "    --cert=/etc/kubernetes/pki/etcd/server.crt \\\n",
    "    --key=/etc/kubernetes/pki/etcd/server.key \\\n",
    "    --cacert=/etc/kubernetes/pki/etcd/ca.crt \\\n",
    "    snapshot save etcd-backup.db\n",
    "\n",
    "# 查看快照文件\n",
    "etcdctl --endpoints 127.0.0.1:2379 \\\n",
    "    --cert=/etc/kubernetes/pki/etcd/server.crt \\\n",
    "    --key=/etc/kubernetes/pki/etcd/server.key \\\n",
    "    --cacert=/etc/kubernetes/pki/etcd/ca.crt \\\n",
    "    snapshot status etcd-backup.db -w table"
   ]
  }
 ],
 "metadata": {
  "language_info": {
   "name": "python"
  },
  "orig_nbformat": 4
 },
 "nbformat": 4,
 "nbformat_minor": 2
}
