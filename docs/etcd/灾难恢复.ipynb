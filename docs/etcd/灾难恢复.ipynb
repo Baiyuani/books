{
 "cells": [
  {
   "attachments": {},
   "cell_type": "markdown",
   "metadata": {},
   "source": [
    "k8s托管的etcd的灾难恢复\n",
    "\n",
    "https://etcd.io/docs/v3.4/op-guide/recovery/\n",
    "\n",
    "```\n",
    "--name：每个etcd与/etc/kubernetes/manifests/etcd.yaml中的--name=要求一致\n",
    "--initial-cluster：也就是集群中所有的 initial-advertise-peer-urls 的合集。可以从master3的/etc/kubernetes/manifests/etcd.yaml中获取\n",
    "--initial-cluster-token：etcd-cluster-1，节点的 token 值，设置该值后集群将生成唯一 id，并为每个节点也生成唯一 id，当使用相同配置文件再启动一个集群时，只要该 token 值不一样，etcd 集群就不会相互影响。\n",
    "--initial-advertise-peer-urls：建议用于节点之间通信的url，节点间将以该值进行通信。可以从master各自的/etc/kubernetes/manifests/etcd.yaml中获取\n",
    "```"
   ]
  },
  {
   "cell_type": "code",
   "execution_count": null,
   "metadata": {
    "vscode": {
     "languageId": "shellscript"
    }
   },
   "outputs": [],
   "source": [
    "# 登录获取最近一次的备份节点，获取备份文件。\n",
    "kubectl get po -n kube-system -o wide | grep etcd-backup \n",
    "\n",
    "# 备份文件上传到所有master\n",
    "\n",
    "# 所有master执行\n",
    "systemctl stop kubelet\n",
    "# 停止etcd，所有master执行\n",
    "docker ps -a | grep etcd_etcd | awk '{system(\"docker stop \"$1\"\")}'\n",
    "\n",
    "# master服务器按顺序执行\n",
    "ETCDCTL_API=3 etcdctl snapshot restore etcd-backup-2023-05-27.db \\\n",
    "  --name k8s-master1 \\\n",
    "  --initial-cluster k8s-master3=https://192.168.182.17:2380,k8s-master1=https://192.168.182.15:2380,k8s-master2=https://192.168.182.16:2380 \\\n",
    "  --initial-cluster-token etcd-cluster-1 \\\n",
    "  --initial-advertise-peer-urls https://192.168.182.15:2380\n",
    "mv k8s-master1.etcd/member/* /var/lib/etcd/member/\n",
    "\n",
    "ETCDCTL_API=3 etcdctl snapshot restore etcd-backup-2023-05-27.db \\\n",
    "  --name k8s-master2 \\\n",
    "  --initial-cluster k8s-master3=https://192.168.182.17:2380,k8s-master1=https://192.168.182.15:2380,k8s-master2=https://192.168.182.16:2380 \\\n",
    "  --initial-cluster-token etcd-cluster-1 \\\n",
    "  --initial-advertise-peer-urls https://192.168.182.16:2380 \n",
    "mv k8s-master2.etcd/member/* /var/lib/etcd/member/\n",
    "\n",
    "ETCDCTL_API=3 etcdctl snapshot restore etcd-backup-2023-05-27.db \\\n",
    "  --name k8s-master3 \\\n",
    "  --initial-cluster k8s-master3=https://192.168.182.17:2380,k8s-master1=https://192.168.182.15:2380,k8s-master2=https://192.168.182.16:2380 \\\n",
    "  --initial-cluster-token etcd-cluster-1 \\\n",
    "  --initial-advertise-peer-urls https://192.168.182.17:2380\n",
    "mv k8s-master3.etcd/member/* /var/lib/etcd/member/\n",
    "\n",
    "# 启动所有master的kubelet\n",
    "systemctl start kubelet\n",
    "\n",
    "# 等待1-2min,检查etcd运行状态，日志，排查错误\n",
    "\n",
    "# 查看是否有遗留的故障etcd容器，需要删除，所有master执行\n",
    "docker ps -a | grep etcd_etcd\n",
    "docker rm \n",
    "\n",
    "# 重启其他集群组件，所有master执行\n",
    "docker ps |grep -E 'k8s_kube-apiserver|k8s_kube-controller-manager|k8s_kube-scheduler' | awk '{system(\"docker restart \"$1\"\")}'\n",
    "\n",
    "# 确认所有的集群组件状态正常\n",
    "kubectl get pods -n kube-system\n",
    "\n",
    "# 重启所有服务器的kubelet\n",
    "systemctl restart kubelet"
   ]
  }
 ],
 "metadata": {
  "kernelspec": {
   "display_name": "Python 3",
   "language": "python",
   "name": "python3"
  },
  "language_info": {
   "codemirror_mode": {
    "name": "ipython",
    "version": 3
   },
   "file_extension": ".py",
   "mimetype": "text/x-python",
   "name": "python",
   "nbconvert_exporter": "python",
   "pygments_lexer": "ipython3",
   "version": "3.11.3"
  },
  "orig_nbformat": 4
 },
 "nbformat": 4,
 "nbformat_minor": 2
}
