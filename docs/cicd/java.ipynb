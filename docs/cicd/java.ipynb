{
 "cells": [
  {
   "attachments": {},
   "cell_type": "markdown",
   "metadata": {},
   "source": [
    "# gradle plugin 设置插件仓库\n",
    "\n",
    "用于解决默认仓库https://plugins.gradle.org/m2/国内访问的网络问题\n",
    "\n",
    "修改项目根目录的settings.gradle"
   ]
  },
  {
   "cell_type": "code",
   "execution_count": null,
   "metadata": {
    "vscode": {
     "languageId": "xml"
    }
   },
   "outputs": [],
   "source": [
    "pluginManagement {\n",
    "  repositories {\n",
    "    maven {\n",
    "      url 'https://maven.aliyun.com/repository/public/'\n",
    "    }\n",
    "    maven {\n",
    "      url 'https://maven.aliyun.com/repository/spring/'\n",
    "    }    \n",
    "    maven {\n",
    "      url 'https://maven.aliyun.com/repository/spring-plugin/'\n",
    "    }\n",
    "    maven {\n",
    "      url 'https://maven.aliyun.com/repository/central/'\n",
    "    }\n",
    "    maven {\n",
    "      url 'https://maven.aliyun.com/repository/google/'\n",
    "    }\n",
    "    maven {\n",
    "      url 'https://maven.aliyun.com/repository/jcenter/'\n",
    "    }    \n",
    "    maven {\n",
    "      url 'https://maven.aliyun.com/repository/releases/'\n",
    "    }    \n",
    "    maven {\n",
    "      url 'https://maven.aliyun.com/repository/gradle-plugin/'\n",
    "    } \n",
    "    maven {\n",
    "      url 'https://maven.aliyun.com/repository/grails-core/'\n",
    "    }\n",
    "           \n",
    "    mavenLocal()\n",
    "    mavenCentral()\n",
    "  }\n",
    "}\n"
   ]
  }
 ],
 "metadata": {
  "language_info": {
   "name": "python"
  },
  "orig_nbformat": 4
 },
 "nbformat": 4,
 "nbformat_minor": 2
}
