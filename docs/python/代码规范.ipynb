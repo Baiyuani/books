{
 "cells": [
  {
   "attachments": {},
   "cell_type": "markdown",
   "metadata": {},
   "source": [
    "# 格式化\n",
    "https://mp.weixin.qq.com/s/OYw0LMfO1StVwV8rw6uaUA"
   ]
  },
  {
   "cell_type": "code",
   "execution_count": null,
   "metadata": {
    "vscode": {
     "languageId": "shellscript"
    }
   },
   "outputs": [],
   "source": [
    "pip install black"
   ]
  },
  {
   "cell_type": "code",
   "execution_count": null,
   "metadata": {
    "vscode": {
     "languageId": "powershell"
    }
   },
   "outputs": [],
   "source": [
    "\n",
    "cd db-manage\n",
    "\n",
    "(venv) PS C:\\Users\\Tracy\\Documents\\Code\\work\\db-manage> black.exe src  \n",
    "reformatted C:\\Users\\Tracy\\Documents\\Code\\work\\db-manage\\src\\settings_prod.py\n",
    "reformatted C:\\Users\\Tracy\\Documents\\Code\\work\\db-manage\\src\\settings_dev.py\n",
    "reformatted C:\\Users\\Tracy\\Documents\\Code\\work\\db-manage\\src\\util\\common.py\n",
    "reformatted C:\\Users\\Tracy\\Documents\\Code\\work\\db-manage\\src\\util\\qdatasouce_history.py\n",
    "reformatted C:\\Users\\Tracy\\Documents\\Code\\work\\db-manage\\src\\app.py\n",
    "reformatted C:\\Users\\Tracy\\Documents\\Code\\work\\db-manage\\src\\util\\db_action.py\n",
    "\n",
    "All done! ✨ 🍰 ✨\n",
    "6 files reformatted, 1 file left unchanged.\n"
   ]
  }
 ],
 "metadata": {
  "kernelspec": {
   "display_name": "Python 3",
   "language": "python",
   "name": "python3"
  },
  "language_info": {
   "codemirror_mode": {
    "name": "ipython",
    "version": 3
   },
   "file_extension": ".py",
   "mimetype": "text/x-python",
   "name": "python",
   "nbconvert_exporter": "python",
   "pygments_lexer": "ipython3",
   "version": "3.11.3"
  },
  "orig_nbformat": 4
 },
 "nbformat": 4,
 "nbformat_minor": 2
}
