{
 "cells": [
  {
   "attachments": {},
   "cell_type": "markdown",
   "metadata": {},
   "source": [
    "https://mp.weixin.qq.com/s/ikaQ-yS0xr1TVLv32ybbcA"
   ]
  },
  {
   "cell_type": "code",
   "execution_count": null,
   "metadata": {},
   "outputs": [],
   "source": [
    "# 没有上下文件管理之前，只能依赖于异常处理结构\n",
    "#!/usr/bin/env python3\n",
    "\n",
    "import logging\n",
    "logging.basicConfig(level=logging.INFO)\n",
    "\n",
    "def main():\n",
    "    \"\"\"向 /tmp/a.txt 文件中写入 \"hello world .\"\n",
    "    \"\"\"\n",
    "    file_object = None\n",
    "    try:\n",
    "        logging.info(\"open file in try block. \")\n",
    "        # 打开文件\n",
    "        file_object = open(\"/tmp/a.txt\", 'w')\n",
    "        file_object.write(\"hello world .\\n\")\n",
    "        \n",
    "    except Exception as err:\n",
    "        pass\n",
    "    finally:\n",
    "        # 关闭文件回收句柄\n",
    "        logging.info(\"close file in finally block .\")\n",
    "        if file_object is not None:\n",
    "            file_object.close()\n",
    "        \n",
    "main()"
   ]
  },
  {
   "cell_type": "code",
   "execution_count": null,
   "metadata": {},
   "outputs": [],
   "source": [
    "# 使用with\n",
    "#!/usr/bin/env python3\n",
    "\n",
    "import logging\n",
    "logging.basicConfig(level=logging.INFO)\n",
    "\n",
    "def main():\n",
    "    \"\"\"向 /tmp/a.txt 文件中写入 \"hello world .\"\n",
    "    \"\"\"\n",
    "    with open(\"/tmp/a.txt\",'w') as file_object:\n",
    "        file_object.write(\"hello world .\\n\")\n",
    "        \n",
    "        \n",
    "main()"
   ]
  },
  {
   "attachments": {},
   "cell_type": "markdown",
   "metadata": {},
   "source": [
    "### with 背后的原理\n",
    "\n",
    "with 语句背后的原理就是上下文管理协议，这个协议约定了进入上下文之前要调用对象的 __enter__ 方法，在退出的时候要调用对象的 __exit__ 方法；我们可以在 __enter__ 方法里面实现 try 部分的逻辑，而在 __exit__ 方法里面实现 finally 的逻辑。"
   ]
  },
  {
   "cell_type": "code",
   "execution_count": null,
   "metadata": {},
   "outputs": [],
   "source": [
    "# 编写支持with的代码\n",
    "#!/usr/bin/env python3\n",
    "\n",
    "import logging\n",
    "logging.basicConfig(level=logging.INFO)\n",
    "\n",
    "class MFile(object):\n",
    "    file_path:str = None\n",
    "    _file_object = None\n",
    "    \n",
    "    def __init__(self, file_path:str=None):\n",
    "        self.file_path = file_path\n",
    "    \n",
    "    def __enter__(self):\n",
    "        logging.info(\"__enter__ function called .\")\n",
    "        self._file_object = open(self.file_path)\n",
    "    \n",
    "    def __exit__(self, *args, **kwargs):\n",
    "        logging.info(\"__exit__ function called .\")\n",
    "        if self._file_object is not None:\n",
    "            self._file_object.close()\n",
    "\n",
    "def main():\n",
    "    with MFile(\"/tmp/a.txt\") as f:\n",
    "        pass\n",
    "\n",
    "main()"
   ]
  },
  {
   "cell_type": "code",
   "execution_count": null,
   "metadata": {
    "vscode": {
     "languageId": "shellscript"
    }
   },
   "outputs": [],
   "source": [
    "# 运行\n",
    "python3 main.py\n",
    "INFO:root:__enter__ function called .\n",
    "INFO:root:__exit__ function called ."
   ]
  },
  {
   "cell_type": "code",
   "execution_count": null,
   "metadata": {
    "vscode": {
     "languageId": "shellscript"
    }
   },
   "outputs": [],
   "source": [
    "# 利用生成器简化\n",
    "#!/usr/bin/env python3\n",
    "\n",
    "import logging\n",
    "import contextlib\n",
    "logging.basicConfig(level=logging.INFO)\n",
    "\n",
    "@contextlib.contextmanager\n",
    "def MFile(file_path:str=None):\n",
    "    # __enter__\n",
    "    logging.info(\"__enter__ function called .\")\n",
    "    file_object = open(file_path, 'w')\n",
    "    yield file_object\n",
    "    # __exit__\n",
    "    logging.info(\"__exit__ function called .\")\n",
    "    file_object.close()\n",
    "\n",
    "def main():\n",
    "    with MFile(\"/tmp/a.txt\") as f:\n",
    "        f.write(\"just a test str . \\n\")\n",
    "        \n",
    "\n",
    "main()"
   ]
  },
  {
   "cell_type": "code",
   "execution_count": null,
   "metadata": {
    "vscode": {
     "languageId": "shellscript"
    }
   },
   "outputs": [],
   "source": [
    "# 实践\n",
    "import os\n",
    "import contextlib\n",
    "from threading import RLock\n",
    "\n",
    "_user_sudo_lock = RLock()\n",
    "\n",
    "@contextlib.contextmanager\n",
    "def sudo(message=\"sudo\"):\n",
    "    \"\"\"临时升级权限到 root .\n",
    "    \"\"\"\n",
    "    # 对于权限这个临界区的访问要串行化\n",
    "    with _user_sudo_lock as lk:\n",
    "        # 得到当前进程的 euid\n",
    "        old_euid = os.geteuid()\n",
    "        # 提升权限到 root\n",
    "        os.seteuid(0)\n",
    "        yield message\n",
    "        # 恢复到普通权限\n",
    "        os.seteuid(old_euid)\n"
   ]
  }
 ],
 "metadata": {
  "language_info": {
   "name": "python"
  },
  "orig_nbformat": 4
 },
 "nbformat": 4,
 "nbformat_minor": 2
}
