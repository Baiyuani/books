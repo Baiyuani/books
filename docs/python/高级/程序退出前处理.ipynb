{
 "cells": [
  {
   "attachments": {},
   "cell_type": "markdown",
   "metadata": {},
   "source": [
    "# atexit\n",
    "\n",
    "https://docs.python.org/3/library/atexit.html"
   ]
  },
  {
   "cell_type": "code",
   "execution_count": 1,
   "metadata": {},
   "outputs": [
    {
     "data": {
      "text/plain": [
       "<function __main__.sync_to_disk()>"
      ]
     },
     "execution_count": 1,
     "metadata": {},
     "output_type": "execute_result"
    }
   ],
   "source": [
    "# 程序退出时保存配置到配置文件 /tmp/config.json\n",
    "import atexit\n",
    "\n",
    "def sync_to_disk():\n",
    "    \"\"\"\n",
    "    \"\"\"\n",
    "    json_str = json.dumps(asdict(self), indent=4)\n",
    "    with open(config_file, 'w') as f:\n",
    "        logging.warning(\"save configs to '{}' \".format(config_file))\n",
    "        f.write(json_str) \n",
    "\n",
    "atexit.register(sync_to_disk)"
   ]
  }
 ],
 "metadata": {
  "kernelspec": {
   "display_name": "Python 3",
   "language": "python",
   "name": "python3"
  },
  "language_info": {
   "codemirror_mode": {
    "name": "ipython",
    "version": 3
   },
   "file_extension": ".py",
   "mimetype": "text/x-python",
   "name": "python",
   "nbconvert_exporter": "python",
   "pygments_lexer": "ipython3",
   "version": "3.11.3"
  },
  "orig_nbformat": 4
 },
 "nbformat": 4,
 "nbformat_minor": 2
}
