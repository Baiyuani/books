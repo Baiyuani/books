{
 "cells": [
  {
   "attachments": {},
   "cell_type": "markdown",
   "metadata": {},
   "source": [
    "# 面向对象"
   ]
  },
  {
   "cell_type": "code",
   "execution_count": null,
   "metadata": {},
   "outputs": [],
   "source": [
    "class First():\n",
    "    \"\"\"要理解类的含义，我们必须理解内置的 __init__() 函数。 所有类都有一个名为 __init__() 的函数，它总是在类启动时执行。 \n",
    "    使用 __init__() 函数为对象属性赋值，或者在创建对象时需要执行的其他操作\n",
    "    每次使用该类创建新对象时，都会自动调用 __init__() 函数。\n",
    "    \"\"\"\n",
    "    def __int__(self,name):\n",
    "        self.name = name\n",
    "        \n",
    "    def __str__(self):\n",
    "        return f\"yes\"\n",
    "\n",
    "    def __len__(self):\n",
    "        return 120\n"
   ]
  },
  {
   "attachments": {},
   "cell_type": "markdown",
   "metadata": {},
   "source": [
    "## `__init__`"
   ]
  },
  {
   "cell_type": "code",
   "execution_count": null,
   "metadata": {},
   "outputs": [],
   "source": [
    "class First():\n",
    "    \"\"\"要理解类的含义，我们必须理解内置的 __init__() 函数。 所有类都有一个名为 __init__() 的函数，它总是在类启动时执行。 \n",
    "    使用 __init__() 函数为对象属性赋值，或者在创建对象时需要执行的其他操作\n",
    "    每次使用该类创建新对象时，都会自动调用 __init__() 函数。\n",
    "    \"\"\"\n",
    "    def __int__(self,name):\n",
    "        self.name = name"
   ]
  },
  {
   "cell_type": "code",
   "execution_count": null,
   "metadata": {},
   "outputs": [],
   "source": [
    "class Person:\n",
    "  def __init__(self, name, age):\n",
    "    self.name = name\n",
    "    self.age = age\n",
    "\n",
    "p1 = Person(\"John\", 36)\n",
    "\n",
    "print(p1.name)\n",
    "print(p1.age)\n",
    "# John\n",
    "# 36"
   ]
  },
  {
   "attachments": {},
   "cell_type": "markdown",
   "metadata": {},
   "source": [
    "## `__str__`"
   ]
  },
  {
   "cell_type": "code",
   "execution_count": null,
   "metadata": {},
   "outputs": [],
   "source": [
    "\"\"\"\n",
    "__str__() 函数控制当类对象表示为字符串时应返回的内容。 \n",
    "如果未设置 __str__() 函数，则返回对象的字符串表示形式\n",
    "\"\"\"\n",
    "class Person:\n",
    "  def __init__(self, name, age):\n",
    "    self.name = name\n",
    "    self.age = age\n",
    "\n",
    "p1 = Person(\"John\", 36)\n",
    "\n",
    "print(p1)\n",
    "# <__main__.Person object at 0x000001EA23A23450>"
   ]
  },
  {
   "cell_type": "code",
   "execution_count": null,
   "metadata": {},
   "outputs": [],
   "source": [
    "class Person:\n",
    "  def __init__(self, name, age):\n",
    "    self.name = name\n",
    "    self.age = age\n",
    "\n",
    "  def __str__(self):\n",
    "    return f\"{self.name}({self.age})\"\n",
    "\n",
    "p1 = Person(\"John\", 36)\n",
    "\n",
    "print(p1)\n",
    "# John(36)"
   ]
  },
  {
   "attachments": {},
   "cell_type": "markdown",
   "metadata": {},
   "source": [
    "## object methods"
   ]
  },
  {
   "cell_type": "code",
   "execution_count": null,
   "metadata": {},
   "outputs": [],
   "source": [
    "class Person:\n",
    "  def __init__(self, name, age):\n",
    "    self.name = name\n",
    "    self.age = age\n",
    "\n",
    "  def myfunc(self):\n",
    "    print(\"Hello my name is \" + self.name)\n",
    "\n",
    "p1 = Person(\"John\", 36)\n",
    "p1.myfunc()"
   ]
  },
  {
   "attachments": {},
   "cell_type": "markdown",
   "metadata": {},
   "source": [
    "## `self` parameter"
   ]
  },
  {
   "cell_type": "code",
   "execution_count": null,
   "metadata": {},
   "outputs": [],
   "source": [
    "# 它不必命名为 self ，可以随意调用它，但它必须是类中任何函数的第一个参数\n",
    "class Person:\n",
    "  def __init__(mysillyobject, name, age):\n",
    "    mysillyobject.name = name\n",
    "    mysillyobject.age = age\n",
    "\n",
    "  def myfunc(abc):\n",
    "    print(\"Hello my name is \" + abc.name)\n",
    "\n",
    "p1 = Person(\"John\", 36)\n",
    "p1.myfunc()"
   ]
  },
  {
   "attachments": {},
   "cell_type": "markdown",
   "metadata": {},
   "source": [
    "## 修改对象的属性"
   ]
  },
  {
   "cell_type": "code",
   "execution_count": null,
   "metadata": {},
   "outputs": [],
   "source": [
    "class Person:\n",
    "    def __init__(self, name, age):\n",
    "        self.name = name\n",
    "        self.age = age\n",
    "\n",
    "        \n",
    "p1 = Person(\"John\", 36)\n",
    "\n",
    "print(p1.name)\n",
    "print(p1.age)\n",
    "\n",
    "p1.age = 50\n",
    "print(p1.age)\n",
    "#John\n",
    "#36\n",
    "#50"
   ]
  },
  {
   "attachments": {},
   "cell_type": "markdown",
   "metadata": {},
   "source": [
    "## 删除属性"
   ]
  },
  {
   "cell_type": "code",
   "execution_count": null,
   "metadata": {},
   "outputs": [],
   "source": [
    "class Person:\n",
    "    def __init__(self, name, age):\n",
    "        self.name = name\n",
    "        self.age = age\n",
    "\n",
    "        \n",
    "p1 = Person(\"John\", 36)\n",
    "\n",
    "print(p1.name)\n",
    "print(p1.age)\n",
    "\n",
    "del p1.age\n",
    "print(p1.age)\n",
    "# John\n",
    "# 36\n",
    "# Traceback (most recent call last):\n",
    "#   File \"C:\\Users\\Tracy\\Documents\\Code\\python\\base\\main.py\", line 13, in <module>\n",
    "#     print(p1.age)\n",
    "#           ^^^^^^\n",
    "# AttributeError: 'Person' object has no attribute 'age'"
   ]
  },
  {
   "attachments": {},
   "cell_type": "markdown",
   "metadata": {},
   "source": [
    "## 删除对象"
   ]
  },
  {
   "cell_type": "code",
   "execution_count": null,
   "metadata": {},
   "outputs": [],
   "source": [
    "class Person:\n",
    "    def __init__(self, name, age):\n",
    "        self.name = name\n",
    "        self.age = age\n",
    "\n",
    "        \n",
    "p1 = Person(\"John\", 36)\n",
    "\n",
    "\n",
    "del p1"
   ]
  },
  {
   "attachments": {},
   "cell_type": "markdown",
   "metadata": {},
   "source": [
    "## pass "
   ]
  },
  {
   "cell_type": "code",
   "execution_count": null,
   "metadata": {},
   "outputs": [],
   "source": [
    "# 类定义不能为空，但如果由于某种原因你有一个没有内容的类定义，请放入 pass 语句以避免出错。\n",
    "class Person:\n",
    "    pass"
   ]
  },
  {
   "attachments": {},
   "cell_type": "markdown",
   "metadata": {},
   "source": [
    "## 属性语法"
   ]
  },
  {
   "cell_type": "code",
   "execution_count": null,
   "metadata": {},
   "outputs": [],
   "source": [
    "\n",
    "class Person(object):\n",
    "    # 省略其它代码\n",
    "\n",
    "    # 用属性语法，将实例对象的全名full_name添加到属性\n",
    "    @property\n",
    "    def full_name(self):\n",
    "        \"\"\"返回实例对象的全名\n",
    "        Return\n",
    "        ------\n",
    "        str\n",
    "        \"\"\"\n",
    "        return self.last_name + self.first_name"
   ]
  },
  {
   "cell_type": "code",
   "execution_count": null,
   "metadata": {},
   "outputs": [],
   "source": [
    "# 或者直接搞成属性\n",
    "class Person(object):\n",
    "    \"\"\"\n",
    "    \"\"\"\n",
    "    def __init__(self,first_name,last_name,age):\n",
    "        \"\"\"\n",
    "        Parameters\n",
    "        ----------\n",
    "        first_name: str\n",
    "            名字\n",
    "        last_name: str\n",
    "            姓氏\n",
    "        age: int\n",
    "            年龄\n",
    "        \"\"\"\n",
    "\n",
    "        self.first_name = first_name\n",
    "        self.last_name = last_name\n",
    "        self.age = age\n",
    "        # 对于这种相当简单的逻辑我们直接写在 __init__ 钩子里也没有问题\n",
    "        # 直接搞成属性\n",
    "        self.full_name = self.last_name + self.first_name"
   ]
  }
 ],
 "metadata": {
  "kernelspec": {
   "display_name": "Python 3",
   "language": "python",
   "name": "python3"
  },
  "language_info": {
   "codemirror_mode": {
    "name": "ipython",
    "version": 3
   },
   "file_extension": ".py",
   "mimetype": "text/x-python",
   "name": "python",
   "nbconvert_exporter": "python",
   "pygments_lexer": "ipython3",
   "version": "3.11.3"
  },
  "orig_nbformat": 4
 },
 "nbformat": 4,
 "nbformat_minor": 2
}
