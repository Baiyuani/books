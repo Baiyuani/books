{
 "cells": [
  {
   "attachments": {},
   "cell_type": "markdown",
   "metadata": {},
   "source": [
    "# dataclasses \n",
    "Include in Python-3.7"
   ]
  },
  {
   "cell_type": "code",
   "execution_count": null,
   "metadata": {},
   "outputs": [],
   "source": [
    "# 传统的写法\n",
    "\n",
    "#!/usr/bin/evn python3\n",
    "\n",
    "class Person(object):\n",
    "    def __init__(self,first_name,last_name,age):\n",
    "        \"\"\"\n",
    "        Parameters\n",
    "        ----------\n",
    "        first_name: str\n",
    "            名字\n",
    "        last_name: str\n",
    "            姓氏\n",
    "        age: int\n",
    "            年龄\n",
    "        \"\"\"\n",
    "        self.first_name = first_name\n",
    "        self.last_name = last_name\n",
    "        self.age = age\n",
    "\n",
    "    # 用已有的 first_name & last_name 再创建新属性\n",
    "    def full_name(self):\n",
    "        \"\"\"返回实例对象的全名\n",
    "        Return\n",
    "        ------\n",
    "        str\n",
    "        \"\"\"\n",
    "        return self.last_name + self.first_name\n",
    "\n",
    "    def __str__(self):\n",
    "        return f\"{self.__class__.__name__}(first_name='{self.first_name}',last_name='{self.last_name}',age={self.age})\"\n",
    "\n",
    "if __name__ == \"__main__\":\n",
    "    zhang_san = Person(\"三\",\"张\",18)\n",
    "    print(zhang_san.full_name())\n",
    "    print(zhang_san)"
   ]
  },
  {
   "attachments": {},
   "cell_type": "markdown",
   "metadata": {},
   "source": [
    "### 改进 __init__ 样板代码"
   ]
  },
  {
   "cell_type": "code",
   "execution_count": null,
   "metadata": {},
   "outputs": [],
   "source": [
    "#!/usr/bin/evn python3\n",
    "\n",
    "from dataclasses import dataclass\n",
    "\n",
    "@dataclass\n",
    "class Person(object):\n",
    "    first_name: str\n",
    "    last_name: str\n",
    "    age: int\n",
    "\n",
    "    # 用已有的 first_name & last_name 再创建新属性\n",
    "    def full_name(self):\n",
    "        \"\"\"返回实例对象的全名\n",
    "        Return\n",
    "        ------\n",
    "        str\n",
    "        \"\"\"\n",
    "        return self.last_name + self.first_name\n",
    "\n",
    "if __name__ == \"__main__\":\n",
    "    zhang_san = Person(\"三\",\"张\",18)\n",
    "    print(zhang_san.full_name())\n",
    "    print(zhang_san)"
   ]
  },
  {
   "cell_type": "code",
   "execution_count": null,
   "metadata": {},
   "outputs": [],
   "source": [
    "\n",
    "#!/usr/bin/evn python3\n",
    "\n",
    "from dataclasses import asdict, dataclass\n",
    "\n",
    "\n",
    "@dataclass\n",
    "class Person(object):\n",
    "    first_name: str\n",
    "    last_name: str\n",
    "    age: int\n",
    "\n",
    "    # 用已有的 first_name & last_name 再创建新属性\n",
    "    def __post_init__(self):\n",
    "        self.full_name = self.last_name + self.first_name\n",
    "\n",
    "if __name__ == \"__main__\":\n",
    "    zhang_san = Person(\"三\",\"张\",18)\n",
    "    print(zhang_san.full_name)"
   ]
  },
  {
   "attachments": {},
   "cell_type": "markdown",
   "metadata": {},
   "source": [
    "### 对象转换为字典"
   ]
  },
  {
   "cell_type": "code",
   "execution_count": null,
   "metadata": {},
   "outputs": [],
   "source": [
    "# 不使用dataclasses\n",
    "\n",
    "class Person(object):\n",
    "    \"\"\"\n",
    "    \"\"\"\n",
    "    #\n",
    "    # 省略其它代码 \n",
    "    #\n",
    "\n",
    "    def asdict(self):\n",
    "        \"\"\"返回对象的字典形式\n",
    "        Return\n",
    "        ------\n",
    "        dict\n",
    "        \"\"\"\n",
    "        return {\n",
    "            'first_name':self.first_name,\n",
    "            'last_name': self.last_name,\n",
    "            'age': self.age\n",
    "        }\n",
    "\n",
    "if __name__ == \"__main__\":\n",
    "    zhang_san = Person(\"三\",\"张\",18)\n",
    "    print(zhang_san.asdict())"
   ]
  },
  {
   "cell_type": "code",
   "execution_count": null,
   "metadata": {},
   "outputs": [],
   "source": [
    "# 使用dataclasses\n",
    "\n",
    "#!/usr/bin/evn python3\n",
    "\n",
    "from dataclasses import asdict, dataclass\n",
    "\n",
    "\n",
    "@dataclass\n",
    "class Person(object):\n",
    "    first_name: str\n",
    "    last_name: str\n",
    "    age: int\n",
    "\n",
    "if __name__ == \"__main__\":\n",
    "    zhang_san = Person(\"三\",\"张\",18)\n",
    "    # 如果想节约点内存，想把对象转换为 tuple 也是一样的简单，它提供了一个 astuple 方法。\n",
    "    print(asdict(zhang_san))"
   ]
  },
  {
   "attachments": {},
   "cell_type": "markdown",
   "metadata": {},
   "source": [
    "### 安全"
   ]
  },
  {
   "cell_type": "code",
   "execution_count": null,
   "metadata": {},
   "outputs": [],
   "source": [
    "# 假如我们要实现一个功能，“对象一旦创建完成之后就不能更新它的属性，也就是说这个对象是只读的。” \n",
    "\n",
    "# 传统代码：\n",
    "class Person(object):\n",
    "    \"\"\"\n",
    "    \"\"\"\n",
    "    def __init__(self,first_name,last_name,age):\n",
    "        \"\"\"\n",
    "        Parameters\n",
    "        ----------\n",
    "        first_name: str\n",
    "            名字\n",
    "        last_name: str\n",
    "            姓氏\n",
    "        age: int\n",
    "            年龄\n",
    "        \"\"\"\n",
    "\n",
    "        self.first_name = first_name\n",
    "        self.last_name = last_name\n",
    "        self.age = age\n",
    "        # 第一步我们要在初始化完成之后打上标记\n",
    "        self._is_inited = True\n",
    "\n",
    "    # 第二步 检查对于非初始化赋值的情况，我们要报错。\n",
    "    def __setattr__(self,attr,value):\n",
    "        if '_is_inited' in self.__dict__:\n",
    "            raise RuntimeError(\"read only object .\")\n",
    "        else:\n",
    "            object.__setattr__(self,attr,value)\n",
    "\n",
    "if __name__ == \"__main__\":\n",
    "    zhang_san = Person(\"三\",\"张\",18)\n",
    "    zhang_san.first_name=\"四\"  "
   ]
  },
  {
   "cell_type": "code",
   "execution_count": null,
   "metadata": {
    "vscode": {
     "languageId": "powershell"
    }
   },
   "outputs": [],
   "source": [
    "# 由于运行的时候改了对象的属性，所以它会报错，详细的报错如下。\n",
    "python3 main.py\n",
    "Traceback (most recent call last):\n",
    "  File \"/private/tmp/pys/main.py\", line 82, in <module>\n",
    "    zhang_san.first_name=\"四\"\n",
    "  File \"/private/tmp/pys/main.py\", line 72, in __setattr__\n",
    "    raise RuntimeError(\"read only object .\")\n",
    "RuntimeError: read only object ."
   ]
  },
  {
   "cell_type": "code",
   "execution_count": null,
   "metadata": {},
   "outputs": [],
   "source": [
    "# 使用dataclasses\n",
    "\n",
    "#!/usr/bin/evn python3\n",
    "\n",
    "@dataclass(frozen=True)\n",
    "class Person(object):\n",
    "    first_name: str\n",
    "    last_name: str\n",
    "    age: int\n",
    "\n",
    "if __name__ == \"__main__\":\n",
    "    zhang_san = Person(\"三\",\"张\",18)\n",
    "    zhang_san.first_name=\"四\"\n",
    "    print(zhang_san)"
   ]
  },
  {
   "cell_type": "code",
   "execution_count": null,
   "metadata": {
    "vscode": {
     "languageId": "powershell"
    }
   },
   "outputs": [],
   "source": [
    "# 同样可以做到只读。\n",
    "python3 main.py\n",
    "Traceback (most recent call last):\n",
    "  File \"/private/tmp/pys/main.py\", line 78, in <module>\n",
    "    zhang_san.first_name=\"四\"\n",
    "  File \"<string>\", line 4, in __setattr__\n",
    "dataclasses.FrozenInstanceError: cannot assign to field 'first_name'"
   ]
  }
 ],
 "metadata": {
  "kernelspec": {
   "display_name": "Python 3",
   "language": "python",
   "name": "python3"
  },
  "language_info": {
   "codemirror_mode": {
    "name": "ipython",
    "version": 3
   },
   "file_extension": ".py",
   "mimetype": "text/x-python",
   "name": "python",
   "nbconvert_exporter": "python",
   "pygments_lexer": "ipython3",
   "version": "3.11.3"
  },
  "orig_nbformat": 4
 },
 "nbformat": 4,
 "nbformat_minor": 2
}
