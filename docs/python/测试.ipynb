{
 "cells": [
  {
   "cell_type": "markdown",
   "metadata": {},
   "source": [
    "1. https://docs.python.org/zh-cn/3.12/library/unittest.html#module-unittest\n",
    "\n",
    "2. doctest  https://docs.python.org/zh-cn/3.12/library/doctest.html#module-doctest"
   ]
  }
 ],
 "metadata": {
  "language_info": {
   "name": "python"
  }
 },
 "nbformat": 4,
 "nbformat_minor": 2
}
