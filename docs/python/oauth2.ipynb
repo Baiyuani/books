{
 "cells": [
  {
   "attachments": {},
   "cell_type": "markdown",
   "metadata": {},
   "source": [
    "# rauth"
   ]
  },
  {
   "cell_type": "code",
   "execution_count": null,
   "metadata": {},
   "outputs": [],
   "source": [
    "from rauth import OAuth2Service\n",
    "import json\n",
    "\n",
    "service = OAuth2Service(\n",
    "           name='example',\n",
    "           client_id='nJOnPzkhMDjDs87aRKby',\n",
    "           client_secret='C4CDFDDC1F1F5815D3F78986A4AEA1620216D0A14308B6DF',\n",
    "           access_token_url='https://cloud.ketanyun.cn/sso/oauth2/token',\n",
    "           authorize_url='https://cloud.ketanyun.cn/sso/oauth2/authorize',\n",
    "           base_url='https://cloud.ketanyun.cn/sso/oauth2/')\n",
    "\n",
    "# the return URL is used to validate the request\n",
    "params = {'redirect_uri': 'https://cloud.ketanyun.cn/',\n",
    "          'response_type': 'code'}\n",
    "url = service.get_authorize_url(**params)\n",
    "\n",
    "# once the above URL is consumed by a client we can ask for an access\n",
    "# token. note that the code is retrieved from the redirect URL above,\n",
    "# as set by the provider\n",
    "data = {'code': 'foobar',\n",
    "        'grant_type': 'client_credentials',\n",
    "        'redirect_uri': 'https://cloud.ketanyun.cn/'}\n",
    "\n",
    "session = service.get_auth_session(data=data, decoder=json.loads)\n",
    "\n",
    "\n",
    "print(session.access_token)\n"
   ]
  },
  {
   "attachments": {},
   "cell_type": "markdown",
   "metadata": {},
   "source": [
    "# 直接使用requests"
   ]
  },
  {
   "cell_type": "code",
   "execution_count": null,
   "metadata": {},
   "outputs": [],
   "source": [
    "import requests\n",
    "\n",
    "url = 'https://cloud.ketanyun.cn/sso/oauth2/token'\n",
    "data = {\n",
    "  'grant_type': 'client_credentials',\n",
    "  'client_id': 'nJOnPzkhMDjDs87aRKby',\n",
    "  'client_secret': 'C4CDFDDC1F1F5815D3F78986A4AEA1620216D0A14308B6DF'\n",
    "}\n",
    "\n",
    "response = requests.post(url, data=data)\n",
    "\n",
    "access_token = response.json()['access_token']\n",
    "\n",
    "print(access_token)\n",
    "\n"
   ]
  }
 ],
 "metadata": {
  "language_info": {
   "name": "python"
  },
  "orig_nbformat": 4
 },
 "nbformat": 4,
 "nbformat_minor": 2
}
