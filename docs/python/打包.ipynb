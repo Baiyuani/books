{
 "cells": [
  {
   "attachments": {},
   "cell_type": "markdown",
   "metadata": {
    "collapsed": true
   },
   "source": [
    "# 1.生成requirements.txt\n",
    "\n",
    "[官方文档](https://pip.pypa.io/en/stable/cli/pip_freeze/)"
   ]
  },
  {
   "cell_type": "code",
   "execution_count": null,
   "metadata": {
    "vscode": {
     "languageId": "powershell"
    }
   },
   "outputs": [],
   "source": [
    "env1\\bin\\python -m pip freeze > requirements.txt\n",
    "env2\\bin\\python -m pip install -r requirements.txt\n",
    "\n",
    "# venv中执行\n",
    "venv/Scripts/python.exe -m pip freeze >  requirements.txt"
   ]
  },
  {
   "cell_type": "code",
   "execution_count": null,
   "metadata": {
    "vscode": {
     "languageId": "powershell"
    }
   },
   "outputs": [],
   "source": [
    "# 删除包以及依赖\n",
    "pip install pip-autoremove"
   ]
  },
  {
   "attachments": {},
   "cell_type": "markdown",
   "metadata": {},
   "source": [
    "# 2. whl软件包，以及使用pyproject.toml发布"
   ]
  },
  {
   "cell_type": "code",
   "execution_count": null,
   "metadata": {
    "vscode": {
     "languageId": "powershell"
    }
   },
   "outputs": [],
   "source": [
    "# pypi 旧时代\n",
    "\n",
    "# 开发者在项目的 setup.py 文件里填写包的信息\n",
    "from setuptools import setup\n",
    "\n",
    "# 1: 包的作者无私的上传软件包到 PyPI\n",
    "twine upload dist/dbm-agent-8.31.1.tar.gz\n",
    "# 2: 包的使用者下载安装包并安装\n",
    "pip install dbm-agent\n",
    "# 3: 在业务代码中引入第三方软件包\n",
    "import dbma"
   ]
  },
  {
   "cell_type": "code",
   "execution_count": null,
   "metadata": {
    "vscode": {
     "languageId": "powershell"
    }
   },
   "outputs": [],
   "source": [
    "# pyproject.toml\n",
    "\n",
    "tree ./\n",
    "./\n",
    "├── LICENSE\n",
    "├── README.md\n",
    "├── pyproject.toml\n",
    "├── src\n",
    "│   └── npts            # src 下面是包名，包下面是业务代码\n",
    "│       ├── __init__.py\n",
    "│       └── core.py\n",
    "└── tests\n",
    "\n",
    "3 directories, 5 files"
   ]
  },
  {
   "cell_type": "code",
   "execution_count": null,
   "metadata": {
    "vscode": {
     "languageId": "powershell"
    }
   },
   "outputs": [],
   "source": [
    "# 最小化配置的情况下 pyproject.toml\n",
    "[project]\n",
    "name = \"npts\"\n",
    "version = \"0.0.1\"\n",
    "\n",
    "[build-system]\n",
    "requires = [\"hatchling\"]\n",
    "build-backend = \"hatchling.build\""
   ]
  },
  {
   "cell_type": "code",
   "execution_count": null,
   "metadata": {
    "vscode": {
     "languageId": "powershell"
    }
   },
   "outputs": [],
   "source": [
    "# 1. 安装 build 依赖并用 build 来打包\n",
    "# 安装依赖\n",
    "python3 -m pip install --upgrade build\n",
    "\n",
    "# 打包\n",
    "python3 -m build\n",
    "...\n",
    "...\n",
    "Successfully built npts-0.0.1.tar.gz and npts-0.0.1-py2.py3-none-any.whl"
   ]
  },
  {
   "cell_type": "code",
   "execution_count": null,
   "metadata": {
    "vscode": {
     "languageId": "powershell"
    }
   },
   "outputs": [],
   "source": [
    "# 2. 把打包好的软件包上传到 PyPI\n",
    "twine upload dist/npts-0.0.1-py3-none-any.whl\n",
    "Uploading distributions to https://upload.pypi.org/legacy/\n",
    "Enter your username: neeky \n",
    "Enter your password: \n",
    "Uploading npts-0.0.1-py3-none-any.whl\n",
    "100%|██████████████████████████████████████████████████████████████████████████████████████████████████████████████████████████████████| 5.81k/5.81k [00:02<00:00, 2.23kB/s]\n",
    "\n",
    "View at:\n",
    "https://pypi.org/project/npts/0.0.1/"
   ]
  },
  {
   "cell_type": "code",
   "execution_count": null,
   "metadata": {
    "vscode": {
     "languageId": "powershell"
    }
   },
   "outputs": [],
   "source": [
    "# 相对完整的pyproject.toml示例\n",
    "[project]\n",
    "name = \"npts\"\n",
    "version = \"0.0.3\"\n",
    "description = \"neeky's perf tools\"\n",
    "requires-python = \">=3.8\"\n",
    "dependencies = [\n",
    "  \"Django==4.1.2\",\n",
    "  ]\n",
    "authors = [\n",
    "    { name=\"LeXing Jiang\", email=\"1721900707@qq.com\" },\n",
    "    { name=\"neeky\", email=\"neeky@live.com\" }\n",
    "  ]\n",
    "readme = \"README.md\"\n",
    "classifiers = [\n",
    "    \"Programming Language :: Python :: 3\",\n",
    "    \"License :: OSI Approved :: MIT License\",\n",
    "    \"Operating System :: OS Independent\",\n",
    "  ]\n",
    "\n",
    "[project.scripts]\n",
    "npt-cli-hello = \"npt.core:hello\"\n",
    "\n",
    "[build-system]\n",
    "requires = [\"hatchling\"]\n",
    "build-backend = \"hatchling.build\""
   ]
  },
  {
   "cell_type": "markdown",
   "metadata": {},
   "source": [
    "# 3. 生成可执行文件 \n",
    "\n",
    "nuitka\n",
    "\n",
    "pyinstaller(不好用)"
   ]
  }
 ],
 "metadata": {
  "kernelspec": {
   "display_name": "Python 3",
   "language": "python",
   "name": "python3"
  },
  "language_info": {
   "codemirror_mode": {
    "name": "ipython",
    "version": 2
   },
   "file_extension": ".py",
   "mimetype": "text/x-python",
   "name": "python",
   "nbconvert_exporter": "python",
   "pygments_lexer": "ipython2",
   "version": "3.11.1"
  },
  "vscode": {
   "interpreter": {
    "hash": "5238573367df39f7286bb46f9ff5f08f63a01a80960060ce41e3c79b190280fa"
   }
  }
 },
 "nbformat": 4,
 "nbformat_minor": 0
}
