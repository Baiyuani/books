{
 "cells": [
  {
   "attachments": {},
   "cell_type": "markdown",
   "metadata": {},
   "source": [
    "# 交换"
   ]
  },
  {
   "cell_type": "code",
   "execution_count": null,
   "metadata": {},
   "outputs": [],
   "source": [
    "# 非 Pythonic 的写法\n",
    "temp = a \n",
    "a = b \n",
    "b = temp\n",
    "\n",
    "# Pythonic 的写法\n",
    "a, b = b ,a"
   ]
  },
  {
   "attachments": {},
   "cell_type": "markdown",
   "metadata": {},
   "source": [
    "# 赋值"
   ]
  },
  {
   "cell_type": "code",
   "execution_count": null,
   "metadata": {},
   "outputs": [],
   "source": [
    "# 非 Pythonic 的写法\n",
    "a = 100\n",
    "b = 200\n",
    "\n",
    "# Pythonic 的写法\n",
    "a, b = 100, 200"
   ]
  },
  {
   "attachments": {},
   "cell_type": "markdown",
   "metadata": {},
   "source": [
    "# 真假条件"
   ]
  },
  {
   "cell_type": "code",
   "execution_count": null,
   "metadata": {},
   "outputs": [],
   "source": [
    "# 非 Pythonic 的写法\n",
    "if condition == True:\n",
    "    pass\n",
    "\n",
    "if condition == None:\n",
    "    pass\n",
    "\n",
    "\n",
    "# Pyhonic 的写法\n",
    "if condition:\n",
    "    pass\n",
    "\n",
    "if not condition:\n",
    "    pass\n",
    "\n",
    "if condition is None:\n",
    "    pass"
   ]
  },
  {
   "attachments": {},
   "cell_type": "markdown",
   "metadata": {},
   "source": [
    "# 比较链"
   ]
  },
  {
   "cell_type": "code",
   "execution_count": null,
   "metadata": {},
   "outputs": [],
   "source": [
    "# 非 Pythonic 写法\n",
    "if age > 60 and age < 100:\n",
    "    print(\"(60 ~ 100)\")\n",
    "    \n",
    "# Pythonic 写法\n",
    "if 60 < age < 100:\n",
    "    print(\"(60 ~ 100)\")"
   ]
  },
  {
   "attachments": {},
   "cell_type": "markdown",
   "metadata": {},
   "source": [
    "# 三元运算"
   ]
  },
  {
   "cell_type": "code",
   "execution_count": null,
   "metadata": {},
   "outputs": [],
   "source": [
    "# 非 Pythonic 写法\n",
    "if a < b :\n",
    "    smallest = a\n",
    "else :\n",
    "    smallest = b\n",
    "    \n",
    "# Pythonic 的写法\n",
    "smallest = a if a < b else b"
   ]
  },
  {
   "attachments": {},
   "cell_type": "markdown",
   "metadata": {},
   "source": [
    "# 列表推导"
   ]
  },
  {
   "cell_type": "code",
   "execution_count": null,
   "metadata": {},
   "outputs": [],
   "source": [
    "# 非 Pythonic 的写法\n",
    "result = []\n",
    "for i in range(10):\n",
    "    result.append(i)\n",
    "    \n",
    "# Pythonic 的写法\n",
    "result = [_ for _ in range(10)]\n",
    "\n",
    "\n",
    "\n",
    "# 这个新的形式对于复杂的场景也是支持的，比如下面的例子。\n",
    "result = []\n",
    "for i in range(10):\n",
    "    if i % 2 == 0:\n",
    "        result.append(i)\n",
    "        \n",
    "# 可以写成\n",
    "result = [i for i in range(10) if i % 2 == 0]"
   ]
  },
  {
   "attachments": {},
   "cell_type": "markdown",
   "metadata": {},
   "source": [
    "# 字符拼接"
   ]
  },
  {
   "cell_type": "code",
   "execution_count": null,
   "metadata": {},
   "outputs": [],
   "source": [
    "# 非 Pythonic 的写法\n",
    "chars = ['h', 'e' 'l', 'l', 'o', ' ', 'w', 'o', 'r', 'l', 'd']\n",
    "message = \"\"\n",
    "for c in chars:\n",
    "    message = message + c\n",
    "print(message)\n",
    "\n",
    "# Pythonic 的写法\n",
    "chars = ['h', 'e' 'l', 'l', 'o', ' ', 'w', 'o', 'r', 'l', 'd']\n",
    "print(''.join(chars))"
   ]
  },
  {
   "attachments": {},
   "cell_type": "markdown",
   "metadata": {},
   "source": [
    "# 字典索引"
   ]
  },
  {
   "cell_type": "code",
   "execution_count": null,
   "metadata": {},
   "outputs": [],
   "source": [
    "# 非 Pythonic 的写法\n",
    "kv = {\n",
    "    'hello': 'world'\n",
    "}\n",
    "\n",
    "print(kv['hello'])     # 这个时候正常\n",
    "print(kv['not-exits']) # 这个时候报错\n",
    "\n",
    "# 当 key 不存在的情况下，我们去索引它会报异常，字典有一个 get(key, default) 函数可以在 key 不存在的情况下返回默认值。\n",
    "kv = {\n",
    "    'hello': 'world'\n",
    "}\n",
    "\n",
    "print(kv.get('hello', 'default-str'))     # 打印 world\n",
    "print(kv.get('not-exits', 'default-str')) # 打印 default-str"
   ]
  },
  {
   "attachments": {},
   "cell_type": "markdown",
   "metadata": {},
   "source": [
    "# 资源管理"
   ]
  },
  {
   "cell_type": "code",
   "execution_count": null,
   "metadata": {},
   "outputs": [],
   "source": [
    "# 非 Pythonic 的写法\n",
    "try:\n",
    "    f = open(\"a.txt\")\n",
    "    for line in f:\n",
    "        print(line)\n",
    "finally:\n",
    "    f.close()\n",
    "    \n",
    "# Pythonic 的写法\n",
    "with open(\"a.txt\") as f:\n",
    "    for line in f:\n",
    "        print(line)"
   ]
  },
  {
   "attachments": {},
   "cell_type": "markdown",
   "metadata": {},
   "source": [
    "# 循环检测"
   ]
  },
  {
   "cell_type": "code",
   "execution_count": null,
   "metadata": {},
   "outputs": [],
   "source": [
    "# 非 Pythonic 的写法\n",
    "is_break_executed = False\n",
    "for i in range(5):\n",
    "    if i == 10:\n",
    "        is_break_executed = True\n",
    "        break\n",
    "\n",
    "if not is_break_executed:\n",
    "    print(\"如果没有执行过 break 语句就执行这个流程\")\n",
    "    \n",
    "# Pythonic 的写法\n",
    "for i in range(5):\n",
    "    if i == 10:\n",
    "        break\n",
    "else:\n",
    "    print(\"如果没有执行过 break 语句就执行这个流程\")"
   ]
  },
  {
   "attachments": {},
   "cell_type": "markdown",
   "metadata": {},
   "source": [
    "# import this"
   ]
  },
  {
   "cell_type": "code",
   "execution_count": null,
   "metadata": {
    "vscode": {
     "languageId": "powershell"
    }
   },
   "outputs": [],
   "source": [
    "Python 3.11.3 (tags/v3.11.3:f3909b8, Apr  4 2023, 23:49:59) [MSC v.1934 64 bit (AMD64)] on win32\n",
    "Type \"help\", \"copyright\", \"credits\" or \"license\" for more information.\n",
    ">>> import this\n",
    "The Zen of Python, by Tim Peters\n",
    "\n",
    "Beautiful is better than ugly.\n",
    "Explicit is better than implicit.\n",
    "Simple is better than complex.\n",
    "Complex is better than complicated.\n",
    "Flat is better than nested.\n",
    "Sparse is better than dense.\n",
    "Readability counts.\n",
    "Special cases aren't special enough to break the rules.\n",
    "Although practicality beats purity.\n",
    "Errors should never pass silently.\n",
    "Unless explicitly silenced.\n",
    "In the face of ambiguity, refuse the temptation to guess.\n",
    "There should be one-- and preferably only one --obvious way to do it.\n",
    "Although that way may not be obvious at first unless you're Dutch.\n",
    "Now is better than never.\n",
    "Although never is often better than *right* now.\n",
    "If the implementation is hard to explain, it's a bad idea.\n",
    "If the implementation is easy to explain, it may be a good idea.\n",
    "Namespaces are one honking great idea -- let's do more of those!"
   ]
  }
 ],
 "metadata": {
  "language_info": {
   "name": "python"
  },
  "orig_nbformat": 4
 },
 "nbformat": 4,
 "nbformat_minor": 2
}
