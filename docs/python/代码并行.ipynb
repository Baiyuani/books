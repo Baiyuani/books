{
 "cells": [
  {
   "attachments": {},
   "cell_type": "markdown",
   "metadata": {},
   "source": [
    "## map"
   ]
  },
  {
   "cell_type": "code",
   "execution_count": null,
   "metadata": {},
   "outputs": [],
   "source": [
    "# 将 urls 这一序列中的每个元素作为参数传递到 urlopen 方法中，并将所有结果保存到 results 这一列表中\n",
    "urls = ['http://www.yahoo.com', 'http://www.reddit.com']\n",
    "results = map(urllib2.urlopen, urls)\n",
    "    \n",
    "    \n",
    "# 其结果大致相当于：\n",
    "results = []\n",
    "for url in urls:\n",
    "    results.append(urllib2.urlopen(url))"
   ]
  },
  {
   "attachments": {},
   "cell_type": "markdown",
   "metadata": {},
   "source": [
    "## multiprocessing 和它的子库 multiprocessing.dummy\n",
    "\n",
    "dummy 是 multiprocessing 模块的完整克隆，唯一的不同在于 multiprocessing 作用于进程，而 dummy 模块作用于线程（因此也包括了 Python 所有常见的多线程限制）。"
   ]
  },
  {
   "cell_type": "code",
   "execution_count": 3,
   "metadata": {},
   "outputs": [],
   "source": [
    "from multiprocessing import Pool\n",
    "from multiprocessing.dummy import Pool as ThreadPool\n",
    "\n",
    "# 线程数过多时，切换线程所消耗的时间甚至会超过实际工作时间。对于不同的工作，通过尝试来找到线程池大小的最优值是个不错的主意。\n",
    "pool = ThreadPool(4) # Sets the pool size to 4\n"
   ]
  },
  {
   "cell_type": "code",
   "execution_count": 8,
   "metadata": {},
   "outputs": [],
   "source": [
    "import urllib.request\n",
    "from multiprocessing.dummy import Pool as ThreadPool\n",
    "\n",
    "urls = [\n",
    "    'http://www.python.org',\n",
    "    'http://www.python.org/about/',\n",
    "    'http://www.onlamp.com/pub/a/python/2003/04/17/metaclasses.html',\n",
    "    'http://www.python.org/doc/',\n",
    "    'http://www.python.org/download/',\n",
    "    'http://www.python.org/getit/',\n",
    "    'http://www.python.org/community/',\n",
    "    'https://wiki.python.org/moin/',\n",
    "    'http://planet.python.org/',\n",
    "    'https://wiki.python.org/moin/LocalUserGroups',\n",
    "    'http://www.python.org/psf/',\n",
    "    'http://docs.python.org/devguide/',\n",
    "    'http://www.python.org/community/awards/'\n",
    "    # etc..\n",
    "    ]\n",
    "\n",
    "# Make the Pool of workers\n",
    "pool = ThreadPool(1)\n",
    "# Open the urls in their own threads\n",
    "# and return the results\n",
    "results = pool.map(urllib.request.urlopen, urls)\n",
    "#close the pool and wait for the work to finish\n",
    "pool.close()\n",
    "pool.join()"
   ]
  },
  {
   "attachments": {},
   "cell_type": "markdown",
   "metadata": {},
   "source": [
    "## 子进程和进程池 https://blog.csdn.net/m0_61655732/article/details/120567488"
   ]
  },
  {
   "attachments": {},
   "cell_type": "markdown",
   "metadata": {},
   "source": [
    "\n",
    "## joblib并行加速技巧 \n",
    "\n",
    "\n",
    "https://joblib.readthedocs.io/en/latest/generated/joblib.Parallel.html\n",
    "\n",
    "https://blog.csdn.net/qq_41185868/article/details/108278072\n",
    "\n",
    "\n",
    "- backend：用于设置并行方式，其中多进程方式有'loky'（更稳定）和'multiprocessing'两种可选项，多线程有'threading'一种选项。默认为'loky'\n",
    "- n_jobs：用于设置并行任务同时执行的worker数量，当并行方式为多进程时，n_jobs最多可设置为机器CPU逻辑核心数量，超出亦等价于开启全部核心，你也可以设置为-1来快捷开启全部逻辑核心，若你不希望全部CPU资源均被并行任务占用，则可以设置更小的负数来保留适当的空闲核心，譬如设置为-2则开启全部核心-1个核心，设置为-3则开启全部核心-2个核心"
   ]
  },
  {
   "cell_type": "code",
   "execution_count": 36,
   "metadata": {},
   "outputs": [
    {
     "name": "stdout",
     "output_type": "stream",
     "text": [
      "[0.0, 1.0, 2.0, 3.0, 4.0, 5.0, 6.0, 7.0, 8.0, 9.0]\n"
     ]
    }
   ],
   "source": [
    "from joblib import Parallel, delayed\n",
    "from math import sqrt\n",
    "\n",
    "a = Parallel(\n",
    "    n_jobs=10, backend='threading'\n",
    ")(\n",
    "    delayed(\n",
    "        sqrt\n",
    "    )(i ** 2) for i in list(range(10))\n",
    ")\n",
    "\n",
    "print(a)"
   ]
  }
 ],
 "metadata": {
  "kernelspec": {
   "display_name": "Python 3",
   "language": "python",
   "name": "python3"
  },
  "language_info": {
   "codemirror_mode": {
    "name": "ipython",
    "version": 3
   },
   "file_extension": ".py",
   "mimetype": "text/x-python",
   "name": "python",
   "nbconvert_exporter": "python",
   "pygments_lexer": "ipython3",
   "version": "3.12.0"
  },
  "orig_nbformat": 4
 },
 "nbformat": 4,
 "nbformat_minor": 2
}
