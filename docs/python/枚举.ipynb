{
 "cells": [
  {
   "attachments": {},
   "cell_type": "markdown",
   "metadata": {},
   "source": [
    "# enum\n",
    "Include in python-3.4"
   ]
  },
  {
   "cell_type": "code",
   "execution_count": null,
   "metadata": {},
   "outputs": [],
   "source": [
    "# 不使用枚举\n",
    "\n",
    "#/usr/bin/env python3\n",
    "# -*- coding: utf8 -*-\n",
    "\n",
    "# RGB 常量\n",
    "RED = 1\n",
    "GREEN = 2\n",
    "BLUE = 3\n",
    "\n",
    "# 周一到周天常量\n",
    "MONDAY = 1\n",
    "TUESDAY = 2\n",
    "WEDNESDAY = 3\n",
    "THURSDAY = 4\n",
    "FRIDAY = 5\n",
    "SATURDAY = 6\n",
    "SUNDAY = 7\n",
    "\n",
    "def is_work_day(weekday):\n",
    "    \"\"\"检查 weekday 是不是工作日\n",
    "    Paramter:\n",
    "    ---------\n",
    "    weekday: int\n",
    "        星期几\n",
    "    \n",
    "    Return:\n",
    "    -------\n",
    "        bool\n",
    "\n",
    "    Example:\n",
    "        is_weekend(1) -> True\n",
    "        is_weekend(6) -> False\n",
    "        is_weekend(7) -> False\n",
    "    \"\"\"\n",
    "    # 检查是不是工作日\n",
    "    return weekday in (MONDAY, TUESDAY, WEDNESDAY, THURSDAY, FRIDAY)\n",
    "\n",
    "def main():\n",
    "    # 注意传递的是 RED 这里会打印 True , 明显不应该的\n",
    "    print(is_work_day(RED))\n",
    "\n",
    "if __name__ == \"__main__\":\n",
    "    main()"
   ]
  },
  {
   "cell_type": "code",
   "execution_count": null,
   "metadata": {
    "vscode": {
     "languageId": "powershell"
    }
   },
   "outputs": [],
   "source": [
    "# 运行结果为 True ，也就是说按现在的这套逻辑“红色”和“星期一”是一样的。\n",
    "python3 main.py \n",
    "True"
   ]
  },
  {
   "cell_type": "code",
   "execution_count": null,
   "metadata": {},
   "outputs": [],
   "source": [
    "\n",
    "# 使用枚举\n",
    "\n",
    "#/usr/bin/env python3\n",
    "# -*- coding: utf8 -*-\n",
    "\n",
    "from enum import Enum\n",
    "\n",
    "# RGB 常量\n",
    "RED = 1\n",
    "GREEN = 2\n",
    "BLUE = 3\n",
    "\n",
    "class Colors(Enum):\n",
    "    RED = 1\n",
    "    GREEN = 2\n",
    "    BLUE = 3\n",
    "\n",
    "class Weekdays(Enum):\n",
    "    MONDAY = 1\n",
    "    TUESDAY = 2\n",
    "    WEDNESDAY = 3\n",
    "    THURSDAY = 4\n",
    "    FRIDAY = 5\n",
    "    SATURDAY = 6\n",
    "    SUNDAY = 7\n",
    "\n",
    "def is_work_day_enum(weekday):\n",
    "    return weekday in (Weekdays.MONDAY, Weekdays.TUESDAY, Weekdays.WEDNESDAY, Weekdays.THURSDAY, Weekdays.FRIDAY)\n",
    "  \n",
    "\n",
    "# 下面两个比较都会返回 False ，原因是类型不同就直接返回 False 都不用比较值\n",
    "\n",
    "print(\"RED == Colors.RED => {}\".format(RED == Colors.RED))\n",
    "print(\"Colors.RED == Weekdays.MONDAY => {}\".format(Colors.RED == Weekdays.MONDAY))\n"
   ]
  },
  {
   "cell_type": "code",
   "execution_count": null,
   "metadata": {
    "vscode": {
     "languageId": "powershell"
    }
   },
   "outputs": [],
   "source": [
    "# 运行\n",
    "python3 main.py\n",
    "\n",
    "RED == Colors.RED => False\n",
    "Colors.RED == Weekdays.MONDAY => False"
   ]
  },
  {
   "attachments": {},
   "cell_type": "markdown",
   "metadata": {},
   "source": [
    "# 使用位运算"
   ]
  },
  {
   "cell_type": "code",
   "execution_count": null,
   "metadata": {
    "vscode": {
     "languageId": "powershell"
    }
   },
   "outputs": [],
   "source": [
    "\n",
    "from enum import Flag\n",
    "\n",
    "class Weekdays(Flag):\n",
    "    MONDAY = 1\n",
    "    TUESDAY = 2\n",
    "    WEDNESDAY = 4\n",
    "    THURSDAY = 8\n",
    "    FRIDAY = 16\n",
    "    SATURDAY = 32\n",
    "    SUNDAY = 64\n",
    "\n",
    "def is_work_day_enum(weekday):\n",
    "    # 这里会使用位运算来进行比较\n",
    "    return weekday == Weekdays.MONDAY | Weekdays.TUESDAY | Weekdays.WEDNESDAY | Weekdays.THURSDAY | Weekdays.FRIDAY"
   ]
  },
  {
   "attachments": {},
   "cell_type": "markdown",
   "metadata": {},
   "source": [
    "# 枚举类型性能会差上不少"
   ]
  },
  {
   "cell_type": "code",
   "execution_count": null,
   "metadata": {
    "vscode": {
     "languageId": "powershell"
    }
   },
   "outputs": [],
   "source": [
    "建议还是尽可能的使用枚举，毕竟不写 Bug 才是第一位的，至于性能问题不用过早的优化(除非是特别明显的性能问题)。 "
   ]
  }
 ],
 "metadata": {
  "language_info": {
   "name": "python"
  },
  "orig_nbformat": 4
 },
 "nbformat": 4,
 "nbformat_minor": 2
}
