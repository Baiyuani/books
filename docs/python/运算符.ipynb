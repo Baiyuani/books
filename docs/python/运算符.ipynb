{
 "cells": [
  {
   "attachments": {},
   "cell_type": "markdown",
   "metadata": {},
   "source": [
    "# :=\n",
    "\n",
    "Include in Python 3.8"
   ]
  },
  {
   "cell_type": "code",
   "execution_count": null,
   "metadata": {},
   "outputs": [],
   "source": [
    "# 阶段一\n",
    "# len(lst)` 在命中 if 的语句时候它还会在 print 语句里面再被计算一次\n",
    "def fun(lst=None):\n",
    "    \"\"\"\n",
    "    Parameters:\n",
    "        lst: 列表\n",
    "    \n",
    "    Return:\n",
    "        None\n",
    "    \"\"\"\n",
    "    # \n",
    "    if len(lst) > 7:\n",
    "        print(f\"len(lst) = {len(lst)}  gt 7 , not supported .\")\n",
    "        return "
   ]
  },
  {
   "cell_type": "code",
   "execution_count": 1,
   "metadata": {},
   "outputs": [],
   "source": [
    "# 阶段二\n",
    "# n 其实只在 if 块里面有用到，但是它的声明位置是在 if 之外的\n",
    "def fun(lst=None):\n",
    "    \"\"\"\n",
    "    Parameters:\n",
    "        lst: 列表\n",
    "    \n",
    "    Return:\n",
    "        None\n",
    "    \"\"\"\n",
    "    # \n",
    "    n = len(lst)\n",
    "    if n > 7:\n",
    "        print(f\"len(lst) = {n}  gt 7 , not supported .\")\n",
    "        return "
   ]
  },
  {
   "cell_type": "code",
   "execution_count": null,
   "metadata": {},
   "outputs": [],
   "source": [
    "# 阶段三\n",
    "# n 只在 if 语句内起作用\n",
    "def fun(lst=None):\n",
    "    \"\"\"\n",
    "    Parameters:\n",
    "        lst: 列表\n",
    "    \n",
    "    Return:\n",
    "        None\n",
    "    \"\"\"\n",
    "    # \n",
    "    \n",
    "    if (n:= len(lst)) > 7:\n",
    "        print(f\"len(lst) = {n}  gt 7 , not supported .\")\n",
    "        return \n",
    "    \n",
    "    \n",
    "    \n",
    "# 由于阶段三只是阶段二的语法糖，也就是说从作用域上来讲 n 在 if 语句之后还是可以正常访问"
   ]
  }
 ],
 "metadata": {
  "kernelspec": {
   "display_name": "Python 3",
   "language": "python",
   "name": "python3"
  },
  "language_info": {
   "codemirror_mode": {
    "name": "ipython",
    "version": 3
   },
   "file_extension": ".py",
   "mimetype": "text/x-python",
   "name": "python",
   "nbconvert_exporter": "python",
   "pygments_lexer": "ipython3",
   "version": "3.11.3"
  },
  "orig_nbformat": 4
 },
 "nbformat": 4,
 "nbformat_minor": 2
}
