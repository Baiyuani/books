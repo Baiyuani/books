{
 "cells": [
  {
   "attachments": {},
   "cell_type": "markdown",
   "metadata": {},
   "source": [
    "# 创建超级用户"
   ]
  },
  {
   "cell_type": "code",
   "execution_count": null,
   "metadata": {
    "vscode": {
     "languageId": "powershell"
    }
   },
   "outputs": [],
   "source": [
    ">>> python .\\manage.py createsuperuser"
   ]
  },
  {
   "attachments": {},
   "cell_type": "markdown",
   "metadata": {},
   "source": [
    "# 将model注册到admin页面"
   ]
  },
  {
   "cell_type": "code",
   "execution_count": null,
   "metadata": {},
   "outputs": [],
   "source": [
    "# admin.py\n",
    "from django.contrib import admin\n",
    "from cars.models import Car\n",
    "\n",
    "\n",
    "# Register your models here.\n",
    "admin.site.register(Car)"
   ]
  },
  {
   "cell_type": "code",
   "execution_count": null,
   "metadata": {},
   "outputs": [],
   "source": [
    "# admin.py\n",
    "from django.contrib import admin\n",
    "from cars.models import Car\n",
    "\n",
    "\n",
    "# 通过AdminClass配置\n",
    "class CarAdmin(admin.ModelAdmin):\n",
    "    # 调整字段顺序\n",
    "    # fields = ['year', 'brand']\n",
    "\n",
    "    # 字段分类\n",
    "    fieldsets = [\n",
    "        ('TIME INFO', {'fields': ['year']}),\n",
    "        ('CAR INFO', {'fields': ['brand']})\n",
    "    ]\n",
    "    pass\n",
    "\n",
    "\n",
    "admin.site.register(Car, CarAdmin)\n"
   ]
  }
 ],
 "metadata": {
  "kernelspec": {
   "display_name": "Python 3",
   "language": "python",
   "name": "python3"
  },
  "language_info": {
   "codemirror_mode": {
    "name": "ipython",
    "version": 3
   },
   "file_extension": ".py",
   "mimetype": "text/x-python",
   "name": "python",
   "nbconvert_exporter": "python",
   "pygments_lexer": "ipython3",
   "version": "3.11.1"
  },
  "orig_nbformat": 4
 },
 "nbformat": 4,
 "nbformat_minor": 2
}
