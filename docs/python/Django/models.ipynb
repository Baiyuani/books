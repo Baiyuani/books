{
 "cells": [
  {
   "cell_type": "markdown",
   "metadata": {},
   "source": [
    "# 自动创建数据库表"
   ]
  },
  {
   "cell_type": "code",
   "execution_count": null,
   "metadata": {
    "vscode": {
     "languageId": "powershell"
    }
   },
   "outputs": [],
   "source": [
    "python manage.py makemigrations\n",
    "python manage.py migrate\n",
    "\n",
    "# 获取model对应的sql语句(app_name, migration_name)\n",
    "python manage.py sqlmigrate $app_name $migration_name\n",
    "python manage.py sqlmigrate helloworld 0001\n"
   ]
  },
  {
   "attachments": {},
   "cell_type": "markdown",
   "metadata": {},
   "source": [
    "# 测试"
   ]
  },
  {
   "cell_type": "code",
   "execution_count": null,
   "metadata": {
    "vscode": {
     "languageId": "powershell"
    }
   },
   "outputs": [],
   "source": [
    "# 启动一个交互式python终端\n",
    "python manage.py shell\n",
    ">>> print('asd')\n",
    "asd"
   ]
  },
  {
   "attachments": {},
   "cell_type": "markdown",
   "metadata": {},
   "source": [
    "# 数据操作"
   ]
  },
  {
   "attachments": {},
   "cell_type": "markdown",
   "metadata": {},
   "source": [
    "### create(insert)"
   ]
  },
  {
   "cell_type": "code",
   "execution_count": null,
   "metadata": {
    "vscode": {
     "languageId": "powershell"
    }
   },
   "outputs": [],
   "source": [
    "\n",
    "# 导入model\n",
    ">>> from helloworld.models import Patient\n",
    "# 创建数据\n",
    ">>> carl = Patient(first_name='a', last_name='b', age=20) \n",
    ">>> carl.age\n",
    "20\n",
    ">>> carl.age < 2\n",
    "False\n",
    "# 将数据保存到数据库\n",
    ">>> carl.save()\n",
    "\n",
    "# 创建数据并保存到数据库\n",
    ">>> Patient.objects.create(first_name='sam', last_name='smith', age=15)\n",
    "\n",
    "# 同时创建多条数据\n",
    ">>> mylist = [Patient(first_name='c', last_name='d', age=20), Patient(first_name='acc', last_name='dd', age=20)]\n",
    ">>> Patient.objects.bulk_create(mylist)"
   ]
  },
  {
   "attachments": {},
   "cell_type": "markdown",
   "metadata": {},
   "source": [
    "### get(select)"
   ]
  },
  {
   "cell_type": "code",
   "execution_count": null,
   "metadata": {
    "vscode": {
     "languageId": "powershell"
    }
   },
   "outputs": [],
   "source": [
    "# 获取该model的所有数据\n",
    ">>> Patient.objects.all()\n",
    "\n",
    ">>> Patient.objects.all()[1]\n",
    "\n",
    "# 获取主键为1的数据\n",
    ">>> Patient.objects.get(pk=1)\n",
    "\n",
    "# 获取first_name='a'的数据，注意：get()方法只允许返回一条数据，有多条数据匹配时报错\n",
    ">>> Patient.objects.get(first_name='a') \n",
    "\n"
   ]
  },
  {
   "attachments": {},
   "cell_type": "markdown",
   "metadata": {},
   "source": [
    "### filter(where)"
   ]
  },
  {
   "cell_type": "code",
   "execution_count": null,
   "metadata": {
    "vscode": {
     "languageId": "powershell"
    }
   },
   "outputs": [],
   "source": [
    ">>> Patient.objects.filter(first_name='a').get()\n",
    "\n",
    "# 多条件过滤\n",
    ">>> Patient.objects.filter(first_name='a').filter(age=20).get()\n",
    "\n",
    "# Q对象\n",
    ">>> from django.db.models import Q\n",
    "# 等同于上面的多条件（&与）\n",
    ">>> Patient.objects.filter(Q(first_name='a')&Q(age=20)).get()\n",
    "\n",
    "# |或\n",
    ">>> Patient.objects.filter(Q(first_name='a')|Q(age=20)).get()\n",
    "\n",
    "# 获取所有`first_name`字段以'a'开头的数据\n",
    "Patient.objects.filter(first_name__startswith='a').all()\n",
    "\n",
    "# 获取`age`字段值在集合中的数据\n",
    "Patient.objects.filter(age__in=[20,30,40]).all()\n",
    "\n",
    "# 排序\n",
    "Patient.objects.order_by('age').all()"
   ]
  },
  {
   "attachments": {},
   "cell_type": "markdown",
   "metadata": {},
   "source": [
    "### delete"
   ]
  },
  {
   "cell_type": "code",
   "execution_count": null,
   "metadata": {
    "vscode": {
     "languageId": "powershell"
    }
   },
   "outputs": [],
   "source": [
    ">>> data_point = Patient.objects.get(pk=1)\n",
    ">>> data_point.delete()"
   ]
  },
  {
   "attachments": {},
   "cell_type": "markdown",
   "metadata": {},
   "source": [
    "# 添加字段"
   ]
  },
  {
   "cell_type": "code",
   "execution_count": null,
   "metadata": {
    "vscode": {
     "languageId": "powershell"
    }
   },
   "outputs": [],
   "source": [
    "# 编辑models.py添加完毕后执行\n",
    "python .\\manage.py makemigrations helloworld\n",
    "\n",
    "# 应用变更\n",
    "python .\\manage.py migrate"
   ]
  }
 ],
 "metadata": {
  "kernelspec": {
   "display_name": "Python 3",
   "language": "python",
   "name": "python3"
  },
  "language_info": {
   "codemirror_mode": {
    "name": "ipython",
    "version": 3
   },
   "file_extension": ".py",
   "mimetype": "text/x-python",
   "name": "python",
   "nbconvert_exporter": "python",
   "pygments_lexer": "ipython3",
   "version": "3.11.1"
  },
  "orig_nbformat": 4
 },
 "nbformat": 4,
 "nbformat_minor": 2
}
