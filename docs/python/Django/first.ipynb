{
 "cells": [
  {
   "attachments": {},
   "cell_type": "markdown",
   "metadata": {},
   "source": [
    "# 准备工作"
   ]
  },
  {
   "cell_type": "code",
   "execution_count": null,
   "metadata": {
    "vscode": {
     "languageId": "powershell"
    }
   },
   "outputs": [],
   "source": [
    "# 创建django项目\n",
    "django-admin startproject myproject /Users/jezdez/Code/myproject_repo\n",
    "\n",
    "# 运行项目\n",
    "python .\\manage.py runserver 127.0.0.1:80\n",
    "\n",
    "# 配置监听地址和端口，默认127:8000\n",
    "python manage.py runserver 0.0.0.0:8000\n",
    "\n",
    "# 创建django app\n",
    "python .\\manage.py startapp helloworld"
   ]
  },
  {
   "attachments": {},
   "cell_type": "markdown",
   "metadata": {},
   "source": [
    "# 自动创建数据库表"
   ]
  },
  {
   "cell_type": "code",
   "execution_count": null,
   "metadata": {
    "vscode": {
     "languageId": "powershell"
    }
   },
   "outputs": [],
   "source": [
    "python manage.py makemigrations\n",
    "python manage.py migrate\n",
    "\n",
    "# 获取model对应的sql语句(app_name, migration_name)\n",
    "python manage.py sqlmigrate $app_name $migration_name\n",
    "python manage.py sqlmigrate helloworld 0001\n"
   ]
  },
  {
   "attachments": {},
   "cell_type": "markdown",
   "metadata": {},
   "source": [
    "# 安装app"
   ]
  },
  {
   "cell_type": "code",
   "execution_count": null,
   "metadata": {},
   "outputs": [],
   "source": [
    "#settings.py\n",
    "\n",
    "# 添加'helloworld.apps.HelloworldConfig'\n",
    "INSTALLED_APPS = [\n",
    "    'helloworld.apps.HelloworldConfig',\n",
    "    'django.contrib.admin',\n",
    "    'django.contrib.auth',\n",
    "    'django.contrib.contenttypes',\n",
    "    'django.contrib.sessions',\n",
    "    'django.contrib.messages',\n",
    "    'django.contrib.staticfiles',\n",
    "]"
   ]
  }
 ],
 "metadata": {
  "language_info": {
   "name": "python"
  },
  "orig_nbformat": 4
 },
 "nbformat": 4,
 "nbformat_minor": 2
}
