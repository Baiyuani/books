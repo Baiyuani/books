{
 "cells": [
  {
   "attachments": {},
   "cell_type": "markdown",
   "metadata": {},
   "source": [
    "https://www.geeksforgeeks.org/securing-django-admin-login-with-otp-2-factor-authentication/\n",
    "\n",
    "https://www.geeksforgeeks.org/two-factor-authentication-using-google-authenticator-in-python/"
   ]
  },
  {
   "cell_type": "code",
   "execution_count": null,
   "metadata": {
    "vscode": {
     "languageId": "powershell"
    }
   },
   "outputs": [],
   "source": [
    "pip install django-otp\n"
   ]
  },
  {
   "cell_type": "code",
   "execution_count": null,
   "metadata": {},
   "outputs": [],
   "source": [
    "INSTALLED_APPS = [\n",
    "    'django.contrib.admin',\n",
    "    'django.contrib.auth',\n",
    "    'django.contrib.contenttypes',\n",
    "    'django.contrib.sessions',\n",
    "    'django.contrib.messages',\n",
    "    'django.contrib.staticfiles',\n",
    "    'django_otp',\n",
    "    'django_otp.plugins.otp_totp'\n",
    "  \n",
    "]\n",
    "  \n",
    "MIDDLEWARE = [\n",
    "    'django.middleware.security.SecurityMiddleware',\n",
    "    'django.contrib.sessions.middleware.SessionMiddleware',\n",
    "    'django.middleware.common.CommonMiddleware',\n",
    "    'django.middleware.csrf.CsrfViewMiddleware',\n",
    "    'django.contrib.auth.middleware.AuthenticationMiddleware',\n",
    "    'django.contrib.messages.middleware.MessageMiddleware',\n",
    "    'django.middleware.clickjacking.XFrameOptionsMiddleware',\n",
    "    'django_otp.middleware.OTPMiddleware'\n",
    "]"
   ]
  },
  {
   "cell_type": "code",
   "execution_count": null,
   "metadata": {
    "vscode": {
     "languageId": "powershell"
    }
   },
   "outputs": [],
   "source": [
    "python3 manage.py migrate"
   ]
  }
 ],
 "metadata": {
  "language_info": {
   "name": "python"
  },
  "orig_nbformat": 4
 },
 "nbformat": 4,
 "nbformat_minor": 2
}
