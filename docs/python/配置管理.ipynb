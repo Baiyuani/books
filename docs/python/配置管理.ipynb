{
 "cells": [
  {
   "attachments": {},
   "cell_type": "markdown",
   "metadata": {},
   "source": [
    "## 1. python 获取系统环境变量的方式。https://blog.csdn.net/qq_31547771/article/details/115530169\n"
   ]
  },
  {
   "cell_type": "code",
   "execution_count": null,
   "metadata": {
    "vscode": {
     "languageId": "shellscript"
    }
   },
   "outputs": [],
   "source": [
    "export mysql_host=\"192.168.1.13\"\n",
    "export mysql_port=\"3306\"\n",
    "export mysql_user=\"user_test\"\n",
    "export mysql_pass=\"1234534534\"\n",
    "export mysql_dbname=\"test_db\""
   ]
  },
  {
   "cell_type": "code",
   "execution_count": null,
   "metadata": {},
   "outputs": [],
   "source": [
    "import os\n",
    "env_dist = os.environ\n",
    "mysql_host = env_dist.get(\"mysql_host\")\n",
    "mysql_port = env_dist.get(\"mysql_port\")\n",
    "mysql_user = env_dist.get(\"mysql_user\")\n",
    "mysql_pass = env_dist.get(\"mysql_pass\")\n",
    "mysql_dbname = env_dist.get(\"mysql_dbname\")"
   ]
  },
  {
   "attachments": {},
   "cell_type": "markdown",
   "metadata": {},
   "source": [
    "## 2. dataclass"
   ]
  },
  {
   "cell_type": "code",
   "execution_count": null,
   "metadata": {},
   "outputs": [],
   "source": [
    "from dataclasses import dataclass\n",
    "\n",
    "\n",
    "@dataclass\n",
    "class Config(object):\n",
    "    name: str = \"mysql\"\n",
    "    port: int = 3306\n",
    "\n",
    "    _instance = None\n",
    "\n",
    "    # 单例模式\n",
    "    def __new__(cls, *args, **kw):\n",
    "        if cls._instance is None:\n",
    "            cls._instance = object.__new__(cls, *args, **kw)\n",
    "        return cls._instance\n",
    "\n",
    "\n",
    "a = Config()\n",
    "\n",
    "print(a.name)\n",
    "print(a.port)\n"
   ]
  },
  {
   "attachments": {},
   "cell_type": "markdown",
   "metadata": {},
   "source": [
    "## 2.5 单例模式说明"
   ]
  },
  {
   "cell_type": "code",
   "execution_count": null,
   "metadata": {},
   "outputs": [],
   "source": [
    "from dataclasses import dataclass\n",
    "\n",
    "\n",
    "@dataclass\n",
    "class Config(object):\n",
    "    name:str= \"mysql\"\n",
    "    port:int = 3306"
   ]
  },
  {
   "cell_type": "code",
   "execution_count": null,
   "metadata": {
    "vscode": {
     "languageId": "powershell"
    }
   },
   "outputs": [],
   "source": [
    "# 可以看到两个配置对象的 ID 值不一样\n",
    "In [6]: a = Config()\n",
    "\n",
    "In [7]: b = Config()\n",
    "\n",
    "In [8]: id(a)\n",
    "Out[8]: 4407850896\n",
    "\n",
    "In [9]: id(b)\n",
    "Out[9]: 4407852496"
   ]
  },
  {
   "cell_type": "code",
   "execution_count": 1,
   "metadata": {},
   "outputs": [],
   "source": [
    "# 单例模式\n",
    "@dataclass\n",
    "class Config(object):\n",
    "    name: str = \"mysql\"\n",
    "    port: int = 3306\n",
    "\n",
    "    _instance = None\n",
    "\n",
    "    # 单例模式\n",
    "    def __new__(cls, *args, **kw):\n",
    "        if cls._instance is None:\n",
    "            cls._instance = object.__new__(cls, *args, **kw)\n",
    "        return cls._instance"
   ]
  },
  {
   "cell_type": "code",
   "execution_count": null,
   "metadata": {
    "vscode": {
     "languageId": "powershell"
    }
   },
   "outputs": [],
   "source": [
    "\n",
    "In [4]: a = Config()\n",
    "\n",
    "In [5]: b = Config()\n",
    "\n",
    "In [6]: id(a)\n",
    "Out[6]: 4414751568\n",
    "\n",
    "In [7]: id(b)\n",
    "Out[7]: 4414751568"
   ]
  },
  {
   "attachments": {},
   "cell_type": "markdown",
   "metadata": {},
   "source": [
    "## 3. 项目示例 https://mp.weixin.qq.com/s/218EgvEmae_AOsbE1YUyoA"
   ]
  }
 ],
 "metadata": {
  "kernelspec": {
   "display_name": "Python 3",
   "language": "python",
   "name": "python3"
  },
  "language_info": {
   "codemirror_mode": {
    "name": "ipython",
    "version": 3
   },
   "file_extension": ".py",
   "mimetype": "text/x-python",
   "name": "python",
   "nbconvert_exporter": "python",
   "pygments_lexer": "ipython3",
   "version": "3.11.3"
  },
  "orig_nbformat": 4
 },
 "nbformat": 4,
 "nbformat_minor": 2
}
