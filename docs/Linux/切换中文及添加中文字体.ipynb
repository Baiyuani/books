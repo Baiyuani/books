{
 "cells": [
  {
   "cell_type": "code",
   "execution_count": null,
   "metadata": {
    "vscode": {
     "languageId": "shellscript"
    }
   },
   "outputs": [],
   "source": [
    "# 查看系统语言\n",
    "locale\n",
    "\n",
    "# 如果系统语言不是“zh_CN.UTF-8”的话，则执行步骤2修改系统语言为“zh_CN.UTF-8”\n",
    "# centos\n",
    "vi  /etc/locale.conf\n",
    "# ubuntu\n",
    "vim /etc/default/locale\n",
    "\n",
    "# 添加\n",
    "export LC_ALL=\"zh_CN.UTF-8\"\n",
    "\n",
    "# 立即生效\n",
    "source /etc/default/locale\n",
    "\n",
    "# 再次查看\n",
    "locale"
   ]
  },
  {
   "cell_type": "code",
   "execution_count": null,
   "metadata": {
    "vscode": {
     "languageId": "shellscript"
    }
   },
   "outputs": [],
   "source": [
    "# 从windows C盘字体目录C:\\Windows\\Fonts获取字体文件\n",
    "\n",
    "# linux 服务器创建字体存放目录\n",
    "mkdir -p /usr/share/fonts/truetype   \n",
    "\n",
    "# 修改权限\n",
    "chmod  -R  755  /usr/share/fonts/truetype\n",
    "\n",
    "# 加载缓存\n",
    "fc-cache"
   ]
  }
 ],
 "metadata": {
  "language_info": {
   "name": "python"
  },
  "orig_nbformat": 4
 },
 "nbformat": 4,
 "nbformat_minor": 2
}
