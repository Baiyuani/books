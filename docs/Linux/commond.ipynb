{
 "cells": [
  {
   "attachments": {},
   "cell_type": "markdown",
   "metadata": {},
   "source": [
    "## tcpdump"
   ]
  },
  {
   "cell_type": "code",
   "execution_count": null,
   "metadata": {
    "vscode": {
     "languageId": "shellscript"
    }
   },
   "outputs": [],
   "source": [
    "tcpdump -e -vvv\n",
    "tcpdump -e -vvv -w a.cap\n",
    "tcpdump -e -vvv host IP port PORT \n",
    "tcpdump -i eht0"
   ]
  },
  {
   "attachments": {},
   "cell_type": "markdown",
   "metadata": {},
   "source": [
    "## 检测域名证书信息"
   ]
  },
  {
   "cell_type": "code",
   "execution_count": null,
   "metadata": {
    "vscode": {
     "languageId": "shellscript"
    }
   },
   "outputs": [],
   "source": [
    "# 非sni\n",
    "openssl s_client -connect 域名:443 \n",
    "# sni\n",
    "openssl s_client -connect authserver.jssvc.edu.cn:443 -servername authserver.jssvc.edu.cn\n",
    "\n",
    "openssl x509 -in <证书请求文件> -noout -dates"
   ]
  },
  {
   "attachments": {},
   "cell_type": "markdown",
   "metadata": {},
   "source": [
    "## centos防火墙配置：iptables"
   ]
  },
  {
   "cell_type": "code",
   "execution_count": null,
   "metadata": {
    "vscode": {
     "languageId": "shellscript"
    }
   },
   "outputs": [],
   "source": [
    "# 查看iptables规则，默认查看filter表\n",
    "iptables -nL\n",
    "\n",
    "# 查看nat表规则\n",
    "iptables -t nat -nL\n",
    "\n",
    "# 可以列出序列号，在插入或者删除的时候就不用自己去数了\n",
    "iptables -nL --line-numbers \n",
    "\n",
    "# 可以查看到包过滤的流量统计，访问次数等\n",
    "iptables -nvL --line-numbers\n",
    "\n",
    "# 插入一条规则，默认在第一条插入\n",
    "iptables -I INPUT -s 192.168.1.0/24 -j ACCEPT\n",
    "\n",
    "# 在指定位置插入\n",
    "iptables -I INPUT 2 -s 192.168.2.0/24 -p tcp --sport 45612 -j ACCEPT\n",
    "\n",
    "# 在INPUT最后追加一条记录。\n",
    "iptables -A INPUT -s 192.168.2.0/24 -j ACCEPT\n",
    "\n",
    "# 删除第7条记录\n",
    "iptables -D INPUT 7\n",
    "\n",
    "# 替换一条规则\n",
    "iptables -R INPUT 3 -s 192.168.3.0/24 -p tcp --dport 80 -j ACCEPT\n",
    "\n",
    "# 指定协议\n",
    "iptables -I INPUT -p icmp -j ACCEPT\n",
    "\n",
    "# 针对端口开放（需要指明协议）\n",
    "iptables -I INPUT -p tcp --dport 22 -j ACCEPT\n",
    "\n",
    "# 拒绝所有，需要放到最后一条\n",
    "iptables -A INPUT -j DROP\n",
    "\n",
    "# 修改FORWARD链的默认策略设置为DROP\n",
    "iptables -t filter -P FORWARD DROP   #-t指定所要操作的表，如果没有指定，则默认的表为filter.\n",
    "\n",
    "# 清空当前规则\n",
    "iptables -F\n",
    "\n",
    "# 保存规则\n",
    "iptables-save > /etc/sysconfig/iptables\n",
    "\n",
    "# 从文件里面恢复iptables规则\n",
    "iptables-restore < /etc/sysconfig/iptables\n",
    "\n",
    "# 设置永久生效\n",
    "# 需要安装iptables-services并设置开机自启，后续服务器重启时会自动读取/etc/sysconfig/iptables中的规则配置\n",
    "systemctl stop firewalld\n",
    "systemctl disable firewalld\n",
    "yum install iptables-services\n",
    "systemctl enable iptables.service\n",
    "iptables-save > /etc/sysconfig/iptables"
   ]
  },
  {
   "attachments": {},
   "cell_type": "markdown",
   "metadata": {},
   "source": [
    "## centos防火墙配置：firewalld-cmd"
   ]
  },
  {
   "cell_type": "code",
   "execution_count": null,
   "metadata": {
    "vscode": {
     "languageId": "shellscript"
    }
   },
   "outputs": [],
   "source": [
    "#查看当前所有规则\n",
    "firewall-cmd --list-all\n",
    "\n",
    "#单独查看端口白名单列表\n",
    "firewall-cmd --zone=public --list-ports\n",
    "\n",
    "# 新建永久规则，开放192.168.1.1单个源IP的访问\n",
    "firewall-cmd --permanent --zone=trusted --add-source=192.168.1.1\n",
    "\n",
    "# 新建永久规则，开放192.168.1.0/24整个源IP段的访问\n",
    "firewall-cmd --permanent --add-source=192.168.1.0/24\n",
    "\n",
    "# 移除上述规则\n",
    "firewall-cmd --permanent --remove-source=192.168.1.1\n",
    "\n",
    "# 针对ip开放端口\n",
    "firewall-cmd --permanent --add-rich-rule=\"rule family=\"ipv4\" source address=\"10.64.132.10\" port protocol=\"tcp\" port=\"3306\" accept\"\n",
    "\n",
    "# 开放http服务和https服务\n",
    "firewall-cmd --permanent --add-service=http\n",
    "firewall-cmd --permanent --add-service=https\n",
    "\n",
    "# 移除上述规则\n",
    "firewall-cmd --permanent --remove-service=http\n",
    "\n",
    "#重新加载firewall\n",
    "firewall-cmd --reload\n",
    "\n",
    "#重启firewalld\n",
    "systemctl restart firewalld\n",
    "\n",
    "\n",
    "\n",
    "\n",
    "\n",
    "\n",
    "# 开启防火墙后keepalived脑裂\n",
    "firewall-cmd --direct --permanent --add-rule ipv4 filter INPUT 0 --in-interface eth0 --destination 224.0.0.18 --protocol vrrp -j ACCEPT\n",
    "firewall-cmd --reload\n",
    "systemctl restart keepalived\n"
   ]
  },
  {
   "attachments": {},
   "cell_type": "markdown",
   "metadata": {},
   "source": [
    "## ubunut防火墙配置：ufw"
   ]
  },
  {
   "cell_type": "code",
   "execution_count": null,
   "metadata": {
    "vscode": {
     "languageId": "shellscript"
    }
   },
   "outputs": [],
   "source": [
    "# k8s节点防火墙配置参考\n",
    "# 所有节点之间互相不限制，集群pod和svc CIDR不限制，node节点允许所有来源访问本机80和443，其他端口根据实际情况放通\n",
    "ufw enable\n",
    "ufw allow http\n",
    "ufw allow https\n",
    "ufw allow from 192.168.3.212\n",
    "ufw allow from 192.168.3.213\n",
    "ufw allow from 192.168.3.214\n",
    "ufw allow from 192.168.3.215\n",
    "ufw allow from 192.168.3.216\n",
    "ufw allow from 192.168.3.217\n",
    "ufw allow from 192.168.3.218\n",
    "ufw allow from 192.168.3.219\n",
    "ufw allow from 100.64.0.0/16 to 100.65.0.0/16\n",
    "ufw allow from 192.168.3.219 to 192.168.3.218 port 3306 proto tcp\n",
    "ufw allow from 192.168.3.219 to 192.168.3.219 port 3306 proto tcp\n"
   ]
  },
  {
   "cell_type": "code",
   "execution_count": null,
   "metadata": {
    "vscode": {
     "languageId": "shellscript"
    }
   },
   "outputs": [],
   "source": [
    "# 整个环境所有服务器\n",
    "ufw allow 1723\n",
    "ufw allow from 192.168.103.125\n",
    "ufw allow from 192.168.103.126\n",
    "ufw allow from 192.168.103.127\n",
    "ufw allow from 192.168.103.128\n",
    "ufw allow from 192.168.103.129\n",
    "ufw allow from 192.168.103.130\n",
    "ufw allow from 192.168.103.171\n",
    "ufw allow from 192.168.103.173\n",
    "ufw allow from 192.168.103.177\n",
    "ufw allow from 192.168.103.178\n",
    "ufw allow from 192.168.103.179\n",
    "\n",
    "# node\n",
    "ufw allow http\n",
    "ufw allow https\n",
    "\n",
    "# k8s所有节点\n",
    "ufw allow from 10.95.0.0/16 to 10.96.0.0/16\n",
    "ufw allow from 10.96.0.0/16 to 10.95.0.0/16\n",
    "\n",
    "\n",
    "# 主库\n",
    "ufw allow from 192.168.103.16 to 192.168.103.177 port 3306 proto tcp\n",
    "\n",
    "# 从库\n",
    "ufw allow from 192.168.103.156 to 192.168.103.178 port 3306 proto tcp\n",
    "ufw allow from 192.168.103.113 to 192.168.103.178 port 3306 proto tcp\n",
    "ufw allow from 192.168.103.234 to 192.168.103.178 port 3306 proto tcp\n",
    "ufw allow from 192.168.103.114 to 192.168.103.178 port 3306 proto tcp\n",
    "ufw allow from 192.168.103.116 to 192.168.103.178 port 3306 proto tcp\n",
    "ufw allow from 192.168.103.90 to 192.168.103.178 port 3306 proto tcp\n",
    "\n",
    "\n",
    "ufw enable"
   ]
  },
  {
   "attachments": {},
   "cell_type": "markdown",
   "metadata": {},
   "source": [
    "## 强制刷新arp"
   ]
  },
  {
   "cell_type": "code",
   "execution_count": null,
   "metadata": {
    "vscode": {
     "languageId": "shellscript"
    }
   },
   "outputs": [],
   "source": [
    "# 20230508 腾讯云HAVIP使用keepalived配置后，其他服务器无法学习到vip的MAC，可以在vip所在服务器使用该命令处理\n",
    "arping -c 10 -U 172.17.1.119 -I eth0"
   ]
  },
  {
   "attachments": {},
   "cell_type": "markdown",
   "metadata": {},
   "source": [
    "## ssh隧道"
   ]
  },
  {
   "cell_type": "code",
   "execution_count": 1,
   "metadata": {
    "vscode": {
     "languageId": "shellscript"
    }
   },
   "outputs": [
    {
     "ename": "SyntaxError",
     "evalue": "invalid syntax (697395344.py, line 2)",
     "output_type": "error",
     "traceback": [
      "\u001b[1;36m  Cell \u001b[1;32mIn[1], line 2\u001b[1;36m\u001b[0m\n\u001b[1;33m    nohup ssh -D 0.0.0.0:1337 -f -C -q -N zhdong@gpt.ketanyun.com &\u001b[0m\n\u001b[1;37m          ^\u001b[0m\n\u001b[1;31mSyntaxError\u001b[0m\u001b[1;31m:\u001b[0m invalid syntax\n"
     ]
    }
   ],
   "source": [
    "# https://www.im050.com/posts/415\n",
    "nohup ssh -D 0.0.0.0:1337 -f -C -q -N zhdong@gpt.ketanyun.com &"
   ]
  }
 ],
 "metadata": {
  "kernelspec": {
   "display_name": "Python 3",
   "language": "python",
   "name": "python3"
  },
  "language_info": {
   "codemirror_mode": {
    "name": "ipython",
    "version": 3
   },
   "file_extension": ".py",
   "mimetype": "text/x-python",
   "name": "python",
   "nbconvert_exporter": "python",
   "pygments_lexer": "ipython3",
   "version": "3.11.3"
  },
  "orig_nbformat": 4
 },
 "nbformat": 4,
 "nbformat_minor": 2
}
