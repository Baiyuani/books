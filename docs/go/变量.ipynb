{
 "cells": [
  {
   "attachments": {},
   "cell_type": "markdown",
   "metadata": {},
   "source": [
    "```\n",
    "int- stores integers (whole numbers), such as 123 or -123\n",
    "float32- stores floating point numbers, with decimals, such as 19.99 or -19.99\n",
    "string - stores text, such as \"Hello World\". String values are surrounded by double quotes\n",
    "bool- stores values with two states: true or false\n",
    "```"
   ]
  },
  {
   "attachments": {},
   "cell_type": "markdown",
   "metadata": {},
   "source": [
    "```go\n",
    "//声明一个变量和它的类型。可以在函数内部和外部使用，可以声明和赋值分开进行\n",
    "var variablename type = value\n",
    "\n",
    "//只声明值，类型是由解释器从值中推断出来。不能使用 := 声明一个变量，而不给它赋值。\n",
    "//函数外的每个语句都必须以关键字开始（var, func 等等），因此 := 结构不能在函数外使用。\n",
    "variablename := value\n",
    "```"
   ]
  },
  {
   "attachments": {},
   "cell_type": "markdown",
   "metadata": {},
   "source": [
    "```go\n",
    "package main\n",
    "import (\"fmt\")\n",
    "\n",
    "func main() {\n",
    "  var student1 string = \"John\" //type is string\n",
    "  var student2 = \"Jane\" //type is inferred\n",
    "  x := 2 //type is inferred\n",
    "\n",
    "  fmt.Println(student1)\n",
    "  fmt.Println(student2)\n",
    "  fmt.Println(x)\n",
    "}\n",
    "```\n"
   ]
  },
  {
   "attachments": {},
   "cell_type": "markdown",
   "metadata": {},
   "source": [
    "没有初始值的变量\n",
    "```go\n",
    "package main\n",
    "import (\"fmt\")\n",
    "\n",
    "func main() {\n",
    "  var a string\n",
    "  var b int\n",
    "  var c bool\n",
    "\n",
    "  fmt.Println(a)\n",
    "  fmt.Println(b)\n",
    "  fmt.Println(c)\n",
    "}\n",
    "//----------------------------------------------------------------\n",
    "```\n",
    "```output\n",
    "\n",
    "0\n",
    "false"
   ]
  },
  {
   "attachments": {},
   "cell_type": "markdown",
   "metadata": {},
   "source": [
    "# 多变量声明\n",
    "```go\n",
    "package main\n",
    "import (\"fmt\")\n",
    "\n",
    "func main() {\n",
    "  var a, b, c, d int = 1, 3, 5, 7\n",
    "\n",
    "  fmt.Println(a)\n",
    "  fmt.Println(b)\n",
    "  fmt.Println(c)\n",
    "  fmt.Println(d)\n",
    "}\n",
    "//----------------------------------------------------------------\n",
    "```\n",
    "```output\n",
    "1\n",
    "3\n",
    "5\n",
    "7\n",
    "```"
   ]
  },
  {
   "attachments": {},
   "cell_type": "markdown",
   "metadata": {},
   "source": [
    "# 在块中进行变量声明\n",
    "```go\n",
    "package main\n",
    "\n",
    "import (\n",
    "\t\"fmt\"\n",
    ")\n",
    "\n",
    "func main() {\n",
    "\tvar (\n",
    "\t\ta int\n",
    "\t\tb int    = 1\n",
    "\t\tc string = \"hello\"\n",
    "\t)\n",
    "\n",
    "\tfmt.Println(a)\n",
    "\tfmt.Println(b)\n",
    "\tfmt.Println(c)\n",
    "}\n",
    "//----------------------------------------------------------------\n",
    "```\n",
    "```output\n",
    "0\n",
    "1\n",
    "hello\n",
    "```"
   ]
  },
  {
   "attachments": {},
   "cell_type": "markdown",
   "metadata": {},
   "source": [
    "# 变量命名规则\n",
    "```\n",
    "\n",
    "A variable name must start with a letter or an underscore character (_)\n",
    "A variable name cannot start with a digit\n",
    "A variable name can only contain alpha-numeric characters and underscores (a-z, A-Z, 0-9, and _ )\n",
    "Variable names are case-sensitive (age, Age and AGE are three different variables)\n",
    "There is no limit on the length of the variable name\n",
    "A variable name cannot contain spaces\n",
    "The variable name cannot be any Go keywords\n",
    "\n",
    "\n",
    "```"
   ]
  }
 ],
 "metadata": {
  "language_info": {
   "name": "python"
  },
  "orig_nbformat": 4
 },
 "nbformat": 4,
 "nbformat_minor": 2
}
