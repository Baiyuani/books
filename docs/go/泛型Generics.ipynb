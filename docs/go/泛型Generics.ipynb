{
 "cells": [
  {
   "attachments": {},
   "cell_type": "markdown",
   "metadata": {},
   "source": [
    "## Generics\n",
    "\n",
    "使用泛型，可以声明和使用函数或类型，这些函数或类型被编写为与调用代码提供的一组类型中的任何一个一起工作。\n",
    "\n",
    "- 教程： https://go.dev/doc/tutorial/generics"
   ]
  },
  {
   "attachments": {},
   "cell_type": "markdown",
   "metadata": {},
   "source": [
    "#### https://gobyexample.com/generics\n",
    "\n",
    "```go\n",
    "package main\n",
    "\n",
    "import \"fmt\"\n",
    "\n",
    "func MapKeys[K comparable, V any](m map[K]V) []K {\n",
    "    r := make([]K, 0, len(m))\n",
    "    for k := range m {\n",
    "        r = append(r, k)\n",
    "    }\n",
    "    return r\n",
    "}\n",
    "\n",
    "type List[T any] struct {\n",
    "    head, tail *element[T]\n",
    "}\n",
    "\n",
    "type element[T any] struct {\n",
    "    next *element[T]\n",
    "    val  T\n",
    "}\n",
    "\n",
    "func (lst *List[T]) Push(v T) {\n",
    "    if lst.tail == nil {\n",
    "        lst.head = &element[T]{val: v}\n",
    "        lst.tail = lst.head\n",
    "    } else {\n",
    "        lst.tail.next = &element[T]{val: v}\n",
    "        lst.tail = lst.tail.next\n",
    "    }\n",
    "}\n",
    "\n",
    "func (lst *List[T]) GetAll() []T {\n",
    "    var elems []T\n",
    "    for e := lst.head; e != nil; e = e.next {\n",
    "        elems = append(elems, e.val)\n",
    "    }\n",
    "    return elems\n",
    "}\n",
    "\n",
    "func main() {\n",
    "    var m = map[int]string{1: \"2\", 2: \"4\", 4: \"8\"}\n",
    "\n",
    "    fmt.Println(\"keys:\", MapKeys(m))\n",
    "\n",
    "    _ = MapKeys[int, string](m)\n",
    "\n",
    "    lst := List[int]{}\n",
    "    lst.Push(10)\n",
    "    lst.Push(13)\n",
    "    lst.Push(23)\n",
    "    fmt.Println(\"list:\", lst.GetAll())\n",
    "}\n",
    "```"
   ]
  }
 ],
 "metadata": {
  "language_info": {
   "name": "python"
  },
  "orig_nbformat": 4
 },
 "nbformat": 4,
 "nbformat_minor": 2
}
