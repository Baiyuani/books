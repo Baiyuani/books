{
 "cells": [
  {
   "attachments": {},
   "cell_type": "markdown",
   "metadata": {},
   "source": [
    "## 指针\n",
    "- `&` 操作符会生成一个指向其操作数的指针。\n",
    "- `*` 操作符表示指针指向的底层值。\n",
    "\n",
    "- 简单来说，通过`&`设置指针，通过`*`使用指针。"
   ]
  },
  {
   "attachments": {},
   "cell_type": "markdown",
   "metadata": {},
   "source": [
    "```go\n",
    "//zeroval 不会更改 main 中的 i，但 zeroptr 会更改，因为它引用了该变量的内存地址。\n",
    "package main\n",
    "\n",
    "import \"fmt\"\n",
    "\n",
    "func zeroval(ival int) {\n",
    "    ival = 0\n",
    "}\n",
    "//zeroptr 有一个 *int 参数，这意味着它需要一个 int 指针。然后函数体中的 *iptr 代码将指针从其内存地址取消引用到该地址的当前值。为取消引用的指针赋值会更改引用地址处的值。\n",
    "func zeroptr(iptr *int) {\n",
    "    *iptr = 0\n",
    "}\n",
    "\n",
    "func main() {\n",
    "    i := 1\n",
    "    fmt.Println(\"initial:\", i)\n",
    "\n",
    "    zeroval(i)\n",
    "    fmt.Println(\"zeroval:\", i)\n",
    "    //&i 语法给出了 i 的内存地址，即指向 i 的指针\n",
    "    zeroptr(&i)\n",
    "    fmt.Println(\"zeroptr:\", i)\n",
    "\n",
    "    fmt.Println(\"pointer:\", &i)\n",
    "}\n",
    "//----------------------------------------------------------------\n",
    "```\n",
    "```output\n",
    "initial: 1\n",
    "zeroval: 1\n",
    "zeroptr: 0\n",
    "pointer: 0x42131100\n",
    "```"
   ]
  },
  {
   "attachments": {},
   "cell_type": "markdown",
   "metadata": {},
   "source": []
  }
 ],
 "metadata": {
  "language_info": {
   "name": "python"
  },
  "orig_nbformat": 4
 },
 "nbformat": 4,
 "nbformat_minor": 2
}
