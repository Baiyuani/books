{
 "cells": [
  {
   "attachments": {},
   "cell_type": "markdown",
   "metadata": {},
   "source": [
    "## 构建时嵌入\n",
    "https://pkg.go.dev/embed\n",
    "\n",
    "\n",
    "- 嵌入文件或文件夹\n",
    "\n",
    "```go\n",
    "package main\n",
    "\n",
    "import (\n",
    "    \"embed\"\n",
    ")\n",
    "\n",
    "//go:embed folder/single_file.txt\n",
    "var fileString string\n",
    "\n",
    "//go:embed folder/single_file.txt\n",
    "var fileByte []byte\n",
    "\n",
    "//go:embed folder/single_file.txt\n",
    "//go:embed folder/*.hash\n",
    "var folder embed.FS\n",
    "\n",
    "func main() {\n",
    "\n",
    "    print(fileString)\n",
    "    print(string(fileByte))\n",
    "\n",
    "    content1, _ := folder.ReadFile(\"folder/file1.hash\")\n",
    "    print(string(content1))\n",
    "\n",
    "    content2, _ := folder.ReadFile(\"folder/file2.hash\")\n",
    "    print(string(content2))\n",
    "}\n",
    "```"
   ]
  }
 ],
 "metadata": {
  "language_info": {
   "name": "python"
  },
  "orig_nbformat": 4
 },
 "nbformat": 4,
 "nbformat_minor": 2
}
