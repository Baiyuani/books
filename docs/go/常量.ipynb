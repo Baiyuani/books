{
 "cells": [
  {
   "attachments": {},
   "cell_type": "markdown",
   "metadata": {},
   "source": [
    "如果一个变量应该有一个不能改变的固定值，可以使用 const 关键字。\n",
    "```go\n",
    "//常量的value必须在声明时赋值\n",
    "const CONSTNAME type = value\n",
    "```"
   ]
  },
  {
   "attachments": {},
   "cell_type": "markdown",
   "metadata": {},
   "source": [
    "```\n",
    "常量名通常用大写字母书写（便于与变量识别和区分）\n",
    "常量可以在函数内部和外部声明\n",
    "```"
   ]
  },
  {
   "attachments": {},
   "cell_type": "markdown",
   "metadata": {},
   "source": [
    "```go\n",
    "//类型化常量\n",
    "package main\n",
    "import (\"fmt\")\n",
    "\n",
    "const A int = 1\n",
    "\n",
    "func main() {\n",
    "  fmt.Println(A)\n",
    "}\n",
    "```"
   ]
  },
  {
   "attachments": {},
   "cell_type": "markdown",
   "metadata": {},
   "source": [
    "```go\n",
    "//无类型常量在没有类型的情况下声明，常量的类型由解释器推断\n",
    "package main\n",
    "import (\"fmt\")\n",
    "\n",
    "const A = 1\n",
    "\n",
    "func main() {\n",
    "  fmt.Println(A)\n",
    "}\n",
    "```"
   ]
  },
  {
   "attachments": {},
   "cell_type": "markdown",
   "metadata": {},
   "source": [
    "```go\n",
    "package main\n",
    "import (\"fmt\")\n",
    "\n",
    "const (\n",
    "  A int = 1\n",
    "  B = 3.14\n",
    "  C = \"Hi!\"\n",
    ")\n",
    "\n",
    "func main() {\n",
    "  fmt.Println(A)\n",
    "  fmt.Println(B)\n",
    "  fmt.Println(C)\n",
    "}\n",
    "```"
   ]
  }
 ],
 "metadata": {
  "kernelspec": {
   "display_name": "Python 3",
   "language": "python",
   "name": "python3"
  },
  "language_info": {
   "codemirror_mode": {
    "name": "ipython",
    "version": 3
   },
   "file_extension": ".py",
   "mimetype": "text/x-python",
   "name": "python",
   "nbconvert_exporter": "python",
   "pygments_lexer": "ipython3",
   "version": "3.11.3"
  },
  "orig_nbformat": 4
 },
 "nbformat": 4,
 "nbformat_minor": 2
}
