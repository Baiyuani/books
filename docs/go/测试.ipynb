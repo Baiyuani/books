{
 "cells": [
  {
   "attachments": {},
   "cell_type": "markdown",
   "metadata": {},
   "source": [
    "## 单元测试 \n",
    "\n",
    "https://gobyexample.com/testing-and-benchmarking\n",
    "\n",
    "```go\n",
    "package main\n",
    "\n",
    "import (\n",
    "    \"fmt\"\n",
    "    \"testing\"\n",
    ")\n",
    "\n",
    "func IntMin(a, b int) int {\n",
    "    if a < b {\n",
    "        return a\n",
    "    }\n",
    "    return b\n",
    "}\n",
    "\n",
    "func TestIntMinBasic(t *testing.T) {\n",
    "    ans := IntMin(2, -2)\n",
    "    if ans != -2 {\n",
    "\n",
    "        t.Errorf(\"IntMin(2, -2) = %d; want -2\", ans)\n",
    "    }\n",
    "}\n",
    "\n",
    "func TestIntMinTableDriven(t *testing.T) {\n",
    "    var tests = []struct {\n",
    "        a, b int\n",
    "        want int\n",
    "    }{\n",
    "        {0, 1, 0},\n",
    "        {1, 0, 0},\n",
    "        {2, -2, -2},\n",
    "        {0, -1, -1},\n",
    "        {-1, 0, -1},\n",
    "    }\n",
    "\n",
    "    for _, tt := range tests {\n",
    "\n",
    "        testname := fmt.Sprintf(\"%d,%d\", tt.a, tt.b)\n",
    "        t.Run(testname, func(t *testing.T) {\n",
    "            ans := IntMin(tt.a, tt.b)\n",
    "            if ans != tt.want {\n",
    "                t.Errorf(\"got %d, want %d\", ans, tt.want)\n",
    "            }\n",
    "        })\n",
    "    }\n",
    "}\n",
    "\n",
    "func BenchmarkIntMin(b *testing.B) {\n",
    "\n",
    "    for i := 0; i < b.N; i++ {\n",
    "        IntMin(1, 2)\n",
    "    }\n",
    "}\n",
    "```"
   ]
  },
  {
   "cell_type": "code",
   "execution_count": 2,
   "metadata": {
    "vscode": {
     "languageId": "powershell"
    }
   },
   "outputs": [
    {
     "ename": "SyntaxError",
     "evalue": "invalid syntax (2528392100.py, line 2)",
     "output_type": "error",
     "traceback": [
      "\u001b[1;36m  Cell \u001b[1;32mIn[2], line 2\u001b[1;36m\u001b[0m\n\u001b[1;33m    go test\u001b[0m\n\u001b[1;37m       ^\u001b[0m\n\u001b[1;31mSyntaxError\u001b[0m\u001b[1;31m:\u001b[0m invalid syntax\n"
     ]
    }
   ],
   "source": [
    "# 运行当前目录中的所有测试\n",
    "go test\n",
    "\n",
    "# 输出详细信息\n",
    "go test -v"
   ]
  },
  {
   "attachments": {},
   "cell_type": "markdown",
   "metadata": {},
   "source": [
    "## 模糊测试fuzzing\n",
    "\n",
    "https://go.dev/doc/tutorial/fuzz\n",
    "\n",
    "vscode的debug功能：https://github.com/golang/vscode-go/blob/master/docs/debugging.md"
   ]
  },
  {
   "cell_type": "code",
   "execution_count": null,
   "metadata": {
    "vscode": {
     "languageId": "powershell"
    }
   },
   "outputs": [],
   "source": [
    "## 运行模糊测试\n",
    "go test -fuzz=Fuzz\n",
    "\n",
    "## 限制测试时间\n",
    "go test -fuzz=Fuzz -fuzztime 10s"
   ]
  }
 ],
 "metadata": {
  "kernelspec": {
   "display_name": "Python 3",
   "language": "python",
   "name": "python3"
  },
  "language_info": {
   "codemirror_mode": {
    "name": "ipython",
    "version": 3
   },
   "file_extension": ".py",
   "mimetype": "text/x-python",
   "name": "python",
   "nbconvert_exporter": "python",
   "pygments_lexer": "ipython3",
   "version": "3.11.3"
  },
  "orig_nbformat": 4
 },
 "nbformat": 4,
 "nbformat_minor": 2
}
