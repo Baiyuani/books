{
 "cells": [
  {
   "attachments": {},
   "cell_type": "markdown",
   "metadata": {},
   "source": [
    "## Context\n",
    "\n",
    "Context 跨 API 边界和 goroutine 携带截止日期、取消信号和其他请求范围的值\n",
    "\n",
    "https://gobyexample.com/context\n",
    "\n",
    "```go\n",
    "package main\n",
    "\n",
    "import (\n",
    "    \"fmt\"\n",
    "    \"net/http\"\n",
    "    \"time\"\n",
    ")\n",
    "\n",
    "func hello(w http.ResponseWriter, req *http.Request) {\n",
    "\n",
    "    ctx := req.Context()\n",
    "    fmt.Println(\"server: hello handler started\")\n",
    "    defer fmt.Println(\"server: hello handler ended\")\n",
    "\n",
    "    select {\n",
    "    case <-time.After(10 * time.Second):\n",
    "        fmt.Fprintf(w, \"hello\\n\")\n",
    "    case <-ctx.Done():\n",
    "\n",
    "        err := ctx.Err()\n",
    "        fmt.Println(\"server:\", err)\n",
    "        internalError := http.StatusInternalServerError\n",
    "        http.Error(w, err.Error(), internalError)\n",
    "    }\n",
    "}\n",
    "\n",
    "func main() {\n",
    "\n",
    "    http.HandleFunc(\"/hello\", hello)\n",
    "    http.ListenAndServe(\":8090\", nil)\n",
    "}\n",
    "//----------------------------------------------------------------\n",
    "```\n",
    "```output\n",
    "$ go run context-in-http-servers.go &\n",
    "\n",
    "\n",
    "$ curl localhost:8090/hello\n",
    "server: hello handler started\n",
    "^C\n",
    "server: context canceled\n",
    "server: hello handler ended\n",
    "```"
   ]
  }
 ],
 "metadata": {
  "language_info": {
   "name": "python"
  },
  "orig_nbformat": 4
 },
 "nbformat": 4,
 "nbformat_minor": 2
}
