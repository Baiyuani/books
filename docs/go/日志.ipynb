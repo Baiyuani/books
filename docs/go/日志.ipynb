{
 "cells": [
  {
   "attachments": {},
   "cell_type": "markdown",
   "metadata": {},
   "source": [
    "\n",
    "\n",
    "```go\n",
    "package main\n",
    "\n",
    "import (\n",
    "\t\"fmt\"\n",
    "\t\"log\"\n",
    "\n",
    "\t\"example.com/greetings\"\n",
    ")\n",
    "\n",
    "func main() {\n",
    "\t// Set properties of the predefined Logger, including\n",
    "\t// the log entry prefix and a flag to disable printing\n",
    "\t// the time, source file, and line number.\n",
    "\tlog.SetPrefix(\"greetings: \")\n",
    "\tlog.SetFlags(0)\n",
    "\n",
    "\t// Request a greeting message.\n",
    "\tmessage, err := greetings.Hello(\"\")\n",
    "\t// If an error was returned, print it to the console and\n",
    "\t// exit the program.\n",
    "\tif err != nil {\n",
    "\t\tlog.Fatal(err)\n",
    "\t}\n",
    "\n",
    "\t// If no error was returned, print the returned message\n",
    "\t// to the console.\n",
    "\tfmt.Println(message)\n",
    "}\n",
    "\n",
    "```"
   ]
  }
 ],
 "metadata": {
  "language_info": {
   "name": "python"
  },
  "orig_nbformat": 4
 },
 "nbformat": 4,
 "nbformat_minor": 2
}
