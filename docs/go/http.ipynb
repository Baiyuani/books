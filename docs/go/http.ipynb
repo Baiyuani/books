{
 "cells": [
  {
   "attachments": {},
   "cell_type": "markdown",
   "metadata": {},
   "source": [
    "## http client\n",
    "\n",
    "\n",
    "```go\n",
    "package main\n",
    "\n",
    "import (\n",
    "    \"bufio\"\n",
    "    \"fmt\"\n",
    "    \"net/http\"\n",
    ")\n",
    "\n",
    "func main() {\n",
    "\n",
    "    resp, err := http.Get(\"https://gobyexample.com\")\n",
    "    if err != nil {\n",
    "        panic(err)\n",
    "    }\n",
    "    defer resp.Body.Close()\n",
    "\n",
    "    fmt.Println(\"Response status:\", resp.Status)\n",
    "\n",
    "    scanner := bufio.NewScanner(resp.Body)\n",
    "    for i := 0; scanner.Scan() && i < 5; i++ {\n",
    "        fmt.Println(scanner.Text())\n",
    "    }\n",
    "\n",
    "    if err := scanner.Err(); err != nil {\n",
    "        panic(err)\n",
    "    }\n",
    "}\n",
    "```"
   ]
  },
  {
   "attachments": {},
   "cell_type": "markdown",
   "metadata": {},
   "source": [
    "## http server\n",
    "```go\n",
    "package main\n",
    "\n",
    "import (\n",
    "    \"fmt\"\n",
    "    \"net/http\"\n",
    ")\n",
    "\n",
    "func hello(w http.ResponseWriter, req *http.Request) {\n",
    "\n",
    "    fmt.Fprintf(w, \"hello\\n\")\n",
    "}\n",
    "\n",
    "func headers(w http.ResponseWriter, req *http.Request) {\n",
    "\n",
    "    for name, headers := range req.Header {\n",
    "        for _, h := range headers {\n",
    "            fmt.Fprintf(w, \"%v: %v\\n\", name, h)\n",
    "        }\n",
    "    }\n",
    "}\n",
    "\n",
    "func main() {\n",
    "\n",
    "    http.HandleFunc(\"/hello\", hello)\n",
    "    http.HandleFunc(\"/headers\", headers)\n",
    "\n",
    "    http.ListenAndServe(\":8090\", nil)\n",
    "}\n",
    "```"
   ]
  }
 ],
 "metadata": {
  "language_info": {
   "name": "python"
  },
  "orig_nbformat": 4
 },
 "nbformat": 4,
 "nbformat_minor": 2
}
