{
 "cells": [
  {
   "attachments": {},
   "cell_type": "markdown",
   "metadata": {},
   "source": [
    "# if"
   ]
  },
  {
   "attachments": {},
   "cell_type": "markdown",
   "metadata": {},
   "source": [
    "```go\n",
    "if condition {\n",
    "  // code to be executed if condition is true\n",
    "}\n",
    "```"
   ]
  },
  {
   "attachments": {},
   "cell_type": "markdown",
   "metadata": {},
   "source": [
    "```go\n",
    "package main\n",
    "import (\"fmt\")\n",
    "\n",
    "func main() {\n",
    "  x:= 20\n",
    "  y:= 18\n",
    "  if x > y {\n",
    "    fmt.Println(\"x is greater than y\")\n",
    "  }\n",
    "}\n",
    "```"
   ]
  },
  {
   "attachments": {},
   "cell_type": "markdown",
   "metadata": {},
   "source": [
    "```go\n",
    "if condition {\n",
    "  // code to be executed if condition is true\n",
    "} else {\n",
    "  // code to be executed if condition is false\n",
    "}\n",
    "```"
   ]
  },
  {
   "attachments": {},
   "cell_type": "markdown",
   "metadata": {},
   "source": [
    "```go\n",
    "package main\n",
    "import (\"fmt\")\n",
    "\n",
    "func main() {\n",
    "  time := 20\n",
    "  if (time < 18) {\n",
    "    fmt.Println(\"Good day.\")\n",
    "  } else {\n",
    "    fmt.Println(\"Good evening.\")\n",
    "  }\n",
    "}\n",
    "```"
   ]
  },
  {
   "attachments": {},
   "cell_type": "markdown",
   "metadata": {},
   "source": [
    "```go\n",
    "if condition1 {\n",
    "   // code to be executed if condition1 is true\n",
    "} else if condition2 {\n",
    "   // code to be executed if condition1 is false and condition2 is true\n",
    "} else {\n",
    "   // code to be executed if condition1 and condition2 are both false\n",
    "}\n",
    "```"
   ]
  },
  {
   "attachments": {},
   "cell_type": "markdown",
   "metadata": {},
   "source": [
    "```go\n",
    "package main\n",
    "import (\"fmt\")\n",
    "\n",
    "func main() {\n",
    "  time := 22\n",
    "  if time < 10 {\n",
    "    fmt.Println(\"Good morning.\")\n",
    "  } else if time < 20 {\n",
    "    fmt.Println(\"Good day.\")\n",
    "  } else {\n",
    "    fmt.Println(\"Good evening.\")\n",
    "  }\n",
    "}\n",
    "```"
   ]
  },
  {
   "attachments": {},
   "cell_type": "markdown",
   "metadata": {},
   "source": [
    "```go\n",
    "if condition1 {\n",
    "   // code to be executed if condition1 is true\n",
    "  if condition2 {\n",
    "     // code to be executed if both condition1 and condition2 are true\n",
    "  }\n",
    "}\n",
    "```"
   ]
  },
  {
   "attachments": {},
   "cell_type": "markdown",
   "metadata": {},
   "source": [
    "```go\n",
    "package main\n",
    "import (\"fmt\")\n",
    "\n",
    "func main() {\n",
    "  num := 20\n",
    "  if num >= 10 {\n",
    "    fmt.Println(\"Num is more than 10.\")\n",
    "    if num > 15 {\n",
    "      fmt.Println(\"Num is also more than 15.\")\n",
    "     }\n",
    "  } else {\n",
    "    fmt.Println(\"Num is less than 10.\")\n",
    "  }\n",
    "}\n",
    "```"
   ]
  },
  {
   "attachments": {},
   "cell_type": "markdown",
   "metadata": {},
   "source": [
    "```go\n",
    "//if 的简短语句\n",
    "//同 for 一样， if 语句可以在条件表达式前执行一个简单的语句。\n",
    "//该语句声明的变量作用域仅在 if 之内。\n",
    "package main\n",
    "\n",
    "import (\n",
    "\t\"fmt\"\n",
    "\t\"math\"\n",
    ")\n",
    "\n",
    "func pow(x, n, lim float64) float64 {\n",
    "\tif v := math.Pow(x, n); v < lim {\n",
    "\t\treturn v\n",
    "\t}\n",
    "\treturn lim\n",
    "}\n",
    "\n",
    "func main() {\n",
    "\tfmt.Println(\n",
    "\t\tpow(3, 2, 10),\n",
    "\t\tpow(3, 3, 20),\n",
    "\t)\n",
    "}\n",
    "```\n"
   ]
  },
  {
   "attachments": {},
   "cell_type": "markdown",
   "metadata": {},
   "source": [
    "# switch\n",
    "- switch 的 case 语句从上到下顺次执行，直到匹配成功时停止（Go 自动提供了每个 case 后面所需的 break 语句。除非以fallthrough结尾。）。\n"
   ]
  },
  {
   "attachments": {},
   "cell_type": "markdown",
   "metadata": {},
   "source": [
    "```go\n",
    "//single-case\n",
    "switch expression {\n",
    "case x:\n",
    "   // code block\n",
    "case y:\n",
    "   // code block\n",
    "case z:\n",
    "...\n",
    "default:\n",
    "   // code block\n",
    "}\n",
    "```"
   ]
  },
  {
   "attachments": {},
   "cell_type": "markdown",
   "metadata": {},
   "source": [
    "```go\n",
    "package main\n",
    "\n",
    "import (\n",
    "\t\"fmt\"\n",
    ")\n",
    "\n",
    "func main() {\n",
    "\tday := 1\n",
    "\n",
    "\tswitch day {\n",
    "\tcase 1:\n",
    "\t\tfmt.Println(\"Monday\")\n",
    "\tcase 2:\n",
    "\t\tfmt.Println(\"Tuesday\")\n",
    "\tcase 3:\n",
    "\t\tfmt.Println(\"Wednesday\")\n",
    "\tcase 4:\n",
    "\t\tfmt.Println(\"Thursday\")\n",
    "\tcase 5:\n",
    "\t\tfmt.Println(\"Friday\")\n",
    "\tcase 6:\n",
    "\t\tfmt.Println(\"Saturday\")\n",
    "\tcase 7:\n",
    "\t\tfmt.Println(\"Sunday\")\n",
    "\tdefault:\n",
    "\t\tfmt.Println(\"Not a weekday\")\n",
    "\t}\n",
    "}\n",
    "```"
   ]
  },
  {
   "attachments": {},
   "cell_type": "markdown",
   "metadata": {},
   "source": [
    "```go\n",
    "//multi-case\n",
    "switch expression {\n",
    "case x,y:\n",
    "   // code block if expression is evaluated to x or y\n",
    "case v,w:\n",
    "   // code block if expression is evaluated to v or w\n",
    "case z:\n",
    "...\n",
    "default:\n",
    "   // code block if expression is not found in any cases\n",
    "}\n",
    "```"
   ]
  },
  {
   "attachments": {},
   "cell_type": "markdown",
   "metadata": {},
   "source": [
    "```go\n",
    "package main\n",
    "import (\"fmt\")\n",
    "\n",
    "func main() {\n",
    "   day := 5\n",
    "\n",
    "   switch day {\n",
    "   case 1,3,5:\n",
    "    fmt.Println(\"Odd weekday\")\n",
    "   case 2,4:\n",
    "     fmt.Println(\"Even weekday\")\n",
    "   case 6,7:\n",
    "    fmt.Println(\"Weekend\")\n",
    "  default:\n",
    "    fmt.Println(\"Invalid day of day number\")\n",
    "  }\n",
    "}\n",
    "```"
   ]
  },
  {
   "attachments": {},
   "cell_type": "markdown",
   "metadata": {},
   "source": [
    "```go\n",
    "//fallthrough 如果一个case中的语句以fallthrough结尾，当条件命中该case时，执行该case中的语句，然后忽略下一个case的条件，直接执行下一个case中的语句，直到某一个case中不再以fallthrough结尾时退出switch\n",
    "package main\n",
    "\n",
    "import (\n",
    "\t\"fmt\"\n",
    "\t\"runtime\"\n",
    ")\n",
    "\n",
    "func main() {\n",
    "\tfmt.Print(\"Go runs on \")\n",
    "\tswitch os := runtime.GOOS; os {\n",
    "\tcase \"darwin\":\n",
    "\t\tfmt.Println(\"OS X.\")\n",
    "\t\t\n",
    "\tcase \"linux\":\n",
    "\t\tfmt.Println(\"Linux.\")\n",
    "\t\tfallthrough\n",
    "\t\t\n",
    "\tcase \"darwinasd\":\n",
    "\t\tfmt.Println(\"darwinasd.\")\n",
    "\t\tfallthrough\n",
    "\n",
    "\tdefault:\n",
    "\t\t// freebsd, openbsd,\n",
    "\t\t// plan9, windows...\n",
    "\t\tfmt.Printf(\"%s.\\n\", os)\n",
    "\t}\n",
    "}\n",
    "```\n",
    "\n",
    "```"
   ]
  },
  {
   "attachments": {},
   "cell_type": "markdown",
   "metadata": {},
   "source": [
    "```go\n",
    "//没有条件的switch。这种形式能将一长串 if-then-else 写得更加清晰。\n",
    "package main\n",
    "\n",
    "import (\n",
    "\t\"fmt\"\n",
    "\t\"time\"\n",
    ")\n",
    "\n",
    "func main() {\n",
    "\tt := time.Now()\n",
    "\tswitch {\n",
    "\tcase t.Hour() < 12:\n",
    "\t\tfmt.Println(\"Good morning!\")\n",
    "\tcase t.Hour() < 17:\n",
    "\t\tfmt.Println(\"Good afternoon.\")\n",
    "\tdefault:\n",
    "\t\tfmt.Println(\"Good evening.\")\n",
    "\t}\n",
    "}\n",
    "```"
   ]
  },
  {
   "attachments": {},
   "cell_type": "markdown",
   "metadata": {},
   "source": [
    "# loop"
   ]
  },
  {
   "attachments": {},
   "cell_type": "markdown",
   "metadata": {},
   "source": [
    "- for是Go中唯一的循环"
   ]
  },
  {
   "attachments": {},
   "cell_type": "markdown",
   "metadata": {},
   "source": [
    "```go\n",
    "//for 循环最多可以包含三个语句\n",
    "//初始化语句：在第一次迭代前执行\n",
    "//条件表达式：在每次迭代前求值\n",
    "//后置语句：在每次迭代的结尾执行\n",
    "for statement1; statement2; statement3 {\n",
    "   // code to be executed for each iteration\n",
    "}\n",
    "```"
   ]
  },
  {
   "attachments": {},
   "cell_type": "markdown",
   "metadata": {},
   "source": [
    "```\n",
    "statement1 初始化循环计数器值。 \n",
    "statement2 为每次循环迭代计算。如果它的计算结果为 TRUE，则循环继续。如果它的计算结果为 FALSE，则循环结束。 \n",
    "statement3 增加循环计数器值。\n",
    "\n",
    "注意：这些语句不需要作为循环参数出现。但是，它们需要以某种形式出现在代码中\n",
    "```"
   ]
  },
  {
   "attachments": {},
   "cell_type": "markdown",
   "metadata": {},
   "source": [
    "```go\n",
    "package main\n",
    "\n",
    "import \"fmt\"\n",
    "\n",
    "func main() {\n",
    "\n",
    "    i := 1\n",
    "    //for 是 Go 中的 “while”\n",
    "    for i <= 3 {\n",
    "        fmt.Println(i)\n",
    "        i = i + 1\n",
    "    }\n",
    "\n",
    "    for j := 7; j <= 9; j++ {\n",
    "        fmt.Println(j)\n",
    "    }\n",
    "\n",
    "    for {\n",
    "        fmt.Println(\"loop\")\n",
    "        break\n",
    "    }\n",
    "\n",
    "    for n := 0; n <= 5; n++ {\n",
    "        if n%2 == 0 {\n",
    "            continue\n",
    "        }\n",
    "        fmt.Println(n)\n",
    "    }\n",
    "}\n",
    "```"
   ]
  },
  {
   "attachments": {},
   "cell_type": "markdown",
   "metadata": {},
   "source": [
    "```go\n",
    "//continue\n",
    "package main\n",
    "import (\"fmt\")\n",
    "\n",
    "func main() {\n",
    "  for i:=0; i < 5; i++ {\n",
    "    if i == 3 {\n",
    "      continue\n",
    "    }\n",
    "   fmt.Println(i)\n",
    "  }\n",
    "}\n",
    "//----------------------------------------------------------------\n",
    "```\n",
    "```output\n",
    "0\n",
    "1\n",
    "2\n",
    "4\n",
    "```"
   ]
  },
  {
   "attachments": {},
   "cell_type": "markdown",
   "metadata": {},
   "source": [
    "```go\n",
    "//break\n",
    "package main\n",
    "import (\"fmt\")\n",
    "\n",
    "func main() {\n",
    "  for i:=0; i < 5; i++ {\n",
    "    if i == 3 {\n",
    "      break\n",
    "    }\n",
    "   fmt.Println(i)\n",
    "  }\n",
    "}\n",
    "```"
   ]
  },
  {
   "attachments": {},
   "cell_type": "markdown",
   "metadata": {},
   "source": [
    "```go\n",
    "//嵌套\n",
    "package main\n",
    "import (\"fmt\")\n",
    "\n",
    "func main() {\n",
    "  adj := [2]string{\"big\", \"tasty\"}\n",
    "  fruits := [3]string{\"apple\", \"orange\", \"banana\"}\n",
    "  for i:=0; i < len(adj); i++ {\n",
    "    for j:=0; j < len(fruits); j++ {\n",
    "      fmt.Println(adj[i],fruits[j])\n",
    "    }\n",
    "  }\n",
    "}\n",
    "```"
   ]
  },
  {
   "attachments": {},
   "cell_type": "markdown",
   "metadata": {},
   "source": [
    "```go\n",
    "//range\n",
    "for index, value := array|slice|map {\n",
    "   // code to be executed for each iteration\n",
    "}\n",
    "```"
   ]
  },
  {
   "attachments": {},
   "cell_type": "markdown",
   "metadata": {},
   "source": [
    "```go\n",
    "package main\n",
    "import (\"fmt\")\n",
    "\n",
    "func main() {\n",
    "  fruits := [3]string{\"apple\", \"orange\", \"banana\"}\n",
    "  for idx, val := range fruits {\n",
    "     fmt.Printf(\"%v\\t%v\\n\", idx, val)\n",
    "  }\n",
    "}\n",
    "//----------------------------------------------------------------\n",
    "```\n",
    "```output\n",
    "0      apple\n",
    "1      orange\n",
    "2      banana\n",
    "```\n"
   ]
  },
  {
   "attachments": {},
   "cell_type": "markdown",
   "metadata": {},
   "source": [
    "```go\n",
    "//要仅显示值或索引，您可以使用下划线 (_) 省略其他输出\n",
    "package main\n",
    "import (\"fmt\")\n",
    "\n",
    "func main() {\n",
    "  fruits := [3]string{\"apple\", \"orange\", \"banana\"}\n",
    "  for _, val := range fruits {\n",
    "     fmt.Printf(\"%v\\n\", val)\n",
    "  }\n",
    "}\n",
    "//----------------------------------------------------------------\n",
    "```\n",
    "```go\n",
    "package main\n",
    "import (\"fmt\")\n",
    "\n",
    "func main() {\n",
    "  fruits := [3]string{\"apple\", \"orange\", \"banana\"}\n",
    "\n",
    "  for idx, _ := range fruits {\n",
    "     fmt.Printf(\"%v\\n\", idx)\n",
    "  }\n",
    "}\n",
    "```"
   ]
  },
  {
   "attachments": {},
   "cell_type": "markdown",
   "metadata": {},
   "source": []
  }
 ],
 "metadata": {
  "kernelspec": {
   "display_name": "Python 3",
   "language": "python",
   "name": "python3"
  },
  "language_info": {
   "codemirror_mode": {
    "name": "ipython",
    "version": 3
   },
   "file_extension": ".py",
   "mimetype": "text/x-python",
   "name": "python",
   "nbconvert_exporter": "python",
   "pygments_lexer": "ipython3",
   "version": "3.11.3"
  },
  "orig_nbformat": 4
 },
 "nbformat": 4,
 "nbformat_minor": 2
}
