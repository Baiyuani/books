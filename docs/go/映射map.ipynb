{
 "cells": [
  {
   "attachments": {},
   "cell_type": "markdown",
   "metadata": {},
   "source": [
    "## 映射 map\n",
    "\n",
    "\n",
    "Maps are used to store data values in key:value pairs.\n",
    "\n",
    "Each element in a map is a key:value pair.\n",
    "\n",
    "A map is an unordered and changeable collection that does not allow duplicates.\n",
    "\n",
    "The length of a map is the number of its elements. You can find it using the len() function.\n",
    "\n",
    "The default value of a map is nil.\n",
    "\n",
    "Maps hold references to an underlying hash table.\n",
    "\n",
    "Go has multiple ways for creating maps.\n",
    "\n",
    "映射的零值为 nil 。nil 映射既没有键，也不能添加键。"
   ]
  },
  {
   "attachments": {},
   "cell_type": "markdown",
   "metadata": {},
   "source": [
    "```go\n",
    "var a = map[KeyType]ValueType{key1:value1, key2:value2,...}\n",
    "b := map[KeyType]ValueType{key1:value1, key2:value2,...}\n",
    "```\n"
   ]
  },
  {
   "attachments": {},
   "cell_type": "markdown",
   "metadata": {},
   "source": [
    "```go\n",
    "package main\n",
    "import (\"fmt\")\n",
    "\n",
    "func main() {\n",
    "  var a = map[string]string{\"brand\": \"Ford\", \"model\": \"Mustang\", \"year\": \"1964\"}\n",
    "  b := map[string]int{\"Oslo\": 1, \"Bergen\": 2, \"Trondheim\": 3, \"Stavanger\": 4}\n",
    "\n",
    "  fmt.Printf(\"a\\t%v\\n\", a)\n",
    "  fmt.Printf(\"b\\t%v\\n\", b)\n",
    "}\n",
    "\n",
    "```"
   ]
  },
  {
   "attachments": {},
   "cell_type": "markdown",
   "metadata": {},
   "source": [
    "注意：代码中定义的地图元素的顺序与其存储方式不同。数据的存储方式可以从地图中高效地检索数据"
   ]
  },
  {
   "attachments": {},
   "cell_type": "markdown",
   "metadata": {},
   "source": [
    "```go\n",
    "//使用make()函数声明map\n",
    "var a = make(map[KeyType]ValueType)\n",
    "b := make(map[KeyType]ValueType)\n",
    "```"
   ]
  },
  {
   "attachments": {},
   "cell_type": "markdown",
   "metadata": {},
   "source": [
    "```go\n",
    "package main\n",
    "import (\"fmt\")\n",
    "\n",
    "func main() {\n",
    "  var a = make(map[string]string) // The map is empty now\n",
    "  a[\"brand\"] = \"Ford\"\n",
    "  a[\"model\"] = \"Mustang\"\n",
    "  a[\"year\"] = \"1964\"\n",
    "                                 // a is no longer empty\n",
    "  b := make(map[string]int)\n",
    "  b[\"Oslo\"] = 1\n",
    "  b[\"Bergen\"] = 2\n",
    "  b[\"Trondheim\"] = 3\n",
    "  b[\"Stavanger\"] = 4\n",
    "\n",
    "  fmt.Printf(\"a\\t%v\\n\", a)\n",
    "  fmt.Printf(\"b\\t%v\\n\", b)\n",
    "}\n",
    "```"
   ]
  },
  {
   "attachments": {},
   "cell_type": "markdown",
   "metadata": {},
   "source": [
    "```go\n",
    "//创建一个空map\n",
    "var a map[KeyType]ValueType\n",
    "```\n"
   ]
  },
  {
   "attachments": {},
   "cell_type": "markdown",
   "metadata": {},
   "source": [
    "- 注意：make() 函数是创建空映射的正确方法。如果你以不同的方式制作一个空映射并写入它，它会导致运行时恐慌。\n",
    "  \n",
    "```go\n",
    "package main\n",
    "import (\"fmt\")\n",
    "\n",
    "func main() {\n",
    "  var a = make(map[string]string)\n",
    "  var b map[string]string\n",
    "\n",
    "  fmt.Println(a == nil)\n",
    "  fmt.Println(b == nil)\n",
    "}\n",
    "//----------------------------------------------------------------\n",
    "```\n",
    "```output\n",
    "false\n",
    "true\n",
    "```\n"
   ]
  },
  {
   "attachments": {},
   "cell_type": "markdown",
   "metadata": {},
   "source": [
    "#### 允许的key的类型\n",
    "\n",
    "```\n",
    "Booleans\n",
    "Numbers\n",
    "Strings\n",
    "Arrays\n",
    "Pointers\n",
    "Structs\n",
    "Interfaces (as long as the dynamic type supports equality)\n",
    "\n",
    "\n",
    "\n",
    "Invalid key types are:\n",
    "\n",
    "Slices\n",
    "Maps\n",
    "Functions\n",
    "```"
   ]
  },
  {
   "attachments": {},
   "cell_type": "markdown",
   "metadata": {},
   "source": [
    "#### 允许的value类型\n",
    "```\n",
    "Any\n",
    "```"
   ]
  },
  {
   "attachments": {},
   "cell_type": "markdown",
   "metadata": {},
   "source": [
    "#### 获取map中的元素\n",
    "```go\n",
    "value = map_name[key]\n",
    "```"
   ]
  },
  {
   "attachments": {},
   "cell_type": "markdown",
   "metadata": {},
   "source": [
    "```go\n",
    "package main\n",
    "import (\"fmt\")\n",
    "\n",
    "func main() {\n",
    "  var a = make(map[string]string)\n",
    "  a[\"brand\"] = \"Ford\"\n",
    "  a[\"model\"] = \"Mustang\"\n",
    "  a[\"year\"] = \"1964\"\n",
    "\n",
    "  fmt.Printf(a[\"brand\"])\n",
    "}\n",
    "```"
   ]
  },
  {
   "attachments": {},
   "cell_type": "markdown",
   "metadata": {},
   "source": [
    "#### 更新和添加map元素\n",
    "```go\n",
    "map_name[key] = value\n",
    "```"
   ]
  },
  {
   "attachments": {},
   "cell_type": "markdown",
   "metadata": {},
   "source": [
    "```go\n",
    "package main\n",
    "import (\"fmt\")\n",
    "\n",
    "func main() {\n",
    "  var a = make(map[string]string)\n",
    "  a[\"brand\"] = \"Ford\"\n",
    "  a[\"model\"] = \"Mustang\"\n",
    "  a[\"year\"] = \"1964\"\n",
    "\n",
    "  fmt.Println(a)\n",
    "\n",
    "  a[\"year\"] = \"1970\" // Updating an element\n",
    "  a[\"color\"] = \"red\" // Adding an element\n",
    "\n",
    "  fmt.Println(a)\n",
    "}\n",
    "```"
   ]
  },
  {
   "attachments": {},
   "cell_type": "markdown",
   "metadata": {},
   "source": [
    "#### 删除元素\n",
    "```go\n",
    "delete(map_name, key)\n",
    "```"
   ]
  },
  {
   "attachments": {},
   "cell_type": "markdown",
   "metadata": {},
   "source": [
    "```go\n",
    "package main\n",
    "import (\"fmt\")\n",
    "\n",
    "func main() {\n",
    "  var a = make(map[string]string)\n",
    "  a[\"brand\"] = \"Ford\"\n",
    "  a[\"model\"] = \"Mustang\"\n",
    "  a[\"year\"] = \"1964\"\n",
    "\n",
    "  fmt.Println(a)\n",
    "\n",
    "  delete(a,\"year\")\n",
    "\n",
    "  fmt.Println(a)\n",
    "}\n",
    "```"
   ]
  },
  {
   "attachments": {},
   "cell_type": "markdown",
   "metadata": {},
   "source": [
    "#### 检查map中的特定元素\n",
    "```go\n",
    "val, ok := map_name[key]\n",
    "```"
   ]
  },
  {
   "attachments": {},
   "cell_type": "markdown",
   "metadata": {},
   "source": [
    "```go\n",
    "package main\n",
    "import (\"fmt\")\n",
    "\n",
    "func main() {\n",
    "  var a = map[string]string{\"brand\": \"Ford\", \"model\": \"Mustang\", \"year\": \"1964\", \"day\":\"\"}\n",
    "\n",
    "  val1, ok1 := a[\"brand\"] // Checking for existing key and its value\n",
    "  val2, ok2 := a[\"color\"] // Checking for non-existing key and its value\n",
    "  val3, ok3 := a[\"day\"]   // Checking for existing key and its value\n",
    "  //如果只想检查某个key是否存在，可以用空白标识符（_）代替val。\n",
    "  _, ok4 := a[\"model\"]    // Only checking for existing key and not its value\n",
    "\n",
    "  fmt.Println(val1, ok1)\n",
    "  fmt.Println(val2, ok2)\n",
    "  fmt.Println(val3, ok3)\n",
    "  fmt.Println(ok4)\n",
    "}\n",
    "//------------------------------------------\n",
    "```\n",
    "```output\n",
    "Ford true\n",
    " false\n",
    " true\n",
    "true\n",
    "```"
   ]
  },
  {
   "attachments": {},
   "cell_type": "markdown",
   "metadata": {},
   "source": [
    "#### 映射是对哈希表的引用\n",
    "如果两个映射变量引用同一个哈希表，则更改一个变量的内容会影响另一个变量的内容。"
   ]
  },
  {
   "attachments": {},
   "cell_type": "markdown",
   "metadata": {},
   "source": [
    "```go\n",
    "package main\n",
    "import (\"fmt\")\n",
    "\n",
    "func main() {\n",
    "  var a = map[string]string{\"brand\": \"Ford\", \"model\": \"Mustang\", \"year\": \"1964\"}\n",
    "  b := a\n",
    "\n",
    "  fmt.Println(a)\n",
    "  fmt.Println(b)\n",
    "\n",
    "  b[\"year\"] = \"1970\"\n",
    "  fmt.Println(\"After change to b:\")\n",
    "\n",
    "  fmt.Println(a)\n",
    "  fmt.Println(b)\n",
    "}\n",
    "```"
   ]
  },
  {
   "attachments": {},
   "cell_type": "markdown",
   "metadata": {},
   "source": [
    "#### 遍历map\n",
    "```go\n",
    "package main\n",
    "import (\"fmt\")\n",
    "\n",
    "func main() {\n",
    "  a := map[string]int{\"one\": 1, \"two\": 2, \"three\": 3, \"four\": 4}\n",
    "\n",
    "  for k, v := range a {\n",
    "    fmt.Printf(\"%v : %v, \", k, v)\n",
    "  }\n",
    "}\n",
    "```"
   ]
  },
  {
   "attachments": {},
   "cell_type": "markdown",
   "metadata": {},
   "source": [
    "#### 以指定条件遍历map\n",
    "```go\n",
    "package main\n",
    "import (\"fmt\")\n",
    "\n",
    "func main() {\n",
    "  a := map[string]int{\"one\": 1, \"two\": 2, \"three\": 3, \"four\": 4}\n",
    "\n",
    "  var b = []string{}             // defining the order\n",
    "  b = append(b, \"one\", \"two\", \"three\", \"four\")\n",
    "\n",
    "  for k, v := range a {        // loop with no order\n",
    "    fmt.Printf(\"%v : %v, \", k, v)\n",
    "  }\n",
    "\n",
    "  fmt.Println()\n",
    "\n",
    "  for _, element := range b {  // loop with the defined order\n",
    "    fmt.Printf(\"%v : %v, \", element, a[element])\n",
    "  }\n",
    "}\n",
    "```"
   ]
  },
  {
   "attachments": {},
   "cell_type": "markdown",
   "metadata": {},
   "source": []
  }
 ],
 "metadata": {
  "language_info": {
   "name": "python"
  },
  "orig_nbformat": 4
 },
 "nbformat": 4,
 "nbformat_minor": 2
}
