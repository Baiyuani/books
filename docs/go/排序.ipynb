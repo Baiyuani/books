{
 "cells": [
  {
   "attachments": {},
   "cell_type": "markdown",
   "metadata": {},
   "source": [
    "## 排序\n",
    "\n",
    "排序方法特定于内置类型；这是字符串的示例。请注意，排序是就地进行的，因此它会更改给定的切片并且不会返回新的切片。\n",
    "\n",
    "```go\n",
    "package main\n",
    "\n",
    "import (\n",
    "    \"fmt\"\n",
    "    \"sort\"\n",
    ")\n",
    "\n",
    "func main() {\n",
    "\n",
    "    strs := []string{\"c\", \"a\", \"b\"}\n",
    "    sort.Strings(strs)\n",
    "    fmt.Println(\"Strings:\", strs)\n",
    "\n",
    "    ints := []int{7, 2, 4}\n",
    "    sort.Ints(ints)\n",
    "    fmt.Println(\"Ints:   \", ints)\n",
    "\n",
    "    s := sort.IntsAreSorted(ints)  //检查切片是否已经排序\n",
    "    fmt.Println(\"Sorted: \", s)\n",
    "}\n",
    "```"
   ]
  },
  {
   "attachments": {},
   "cell_type": "markdown",
   "metadata": {},
   "source": [
    "## 按函数排序\n",
    "```go\n",
    "package main\n",
    "\n",
    "import (\n",
    "    \"fmt\"\n",
    "    \"sort\"\n",
    ")\n",
    "//按长度排序\n",
    "type byLength []string\n",
    "\n",
    "func (s byLength) Len() int {\n",
    "    return len(s)\n",
    "}\n",
    "func (s byLength) Swap(i, j int) {\n",
    "    s[i], s[j] = s[j], s[i]\n",
    "}\n",
    "func (s byLength) Less(i, j int) bool {\n",
    "    return len(s[i]) < len(s[j])\n",
    "}\n",
    "\n",
    "func main() {\n",
    "    fruits := []string{\"peach\", \"banana\", \"kiwi\"}\n",
    "    sort.Sort(byLength(fruits))\n",
    "    fmt.Println(fruits)\n",
    "}\n",
    "```"
   ]
  }
 ],
 "metadata": {
  "language_info": {
   "name": "python"
  },
  "orig_nbformat": 4
 },
 "nbformat": 4,
 "nbformat_minor": 2
}
