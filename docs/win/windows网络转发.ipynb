{
 "cells": [
  {
   "attachments": {},
   "cell_type": "markdown",
   "metadata": {},
   "source": [
    "# netsh"
   ]
  },
  {
   "cell_type": "code",
   "execution_count": 1,
   "metadata": {
    "vscode": {
     "languageId": "powershell"
    }
   },
   "outputs": [
    {
     "ename": "SyntaxError",
     "evalue": "invalid decimal literal (2822981139.py, line 1)",
     "output_type": "error",
     "traceback": [
      "\u001b[1;36m  Cell \u001b[1;32mIn[1], line 1\u001b[1;36m\u001b[0m\n\u001b[1;33m    netsh interface portproxy add v6tov4 listenport=80 listenaddress=2409:8a1e:70c2:4af0:41a1:144c:88aa:2441 connectaddress=192.168.182.50 connectport=80\u001b[0m\n\u001b[1;37m                                                                          ^\u001b[0m\n\u001b[1;31mSyntaxError\u001b[0m\u001b[1;31m:\u001b[0m invalid decimal literal\n"
     ]
    }
   ],
   "source": [
    "# 查看已配置的所有转发\n",
    "netsh interface portproxy show all\n",
    "\n",
    "# 添加转发，listen地址+端口转发到connect地址+端口\n",
    "netsh interface portproxy add v6tov4 listenport=80 listenaddress=2409:8a1e:70c2:4af0:41a1:144c:88aa:2441 connectaddress=192.168.182.50 connectport=80\n",
    "netsh interface portproxy add v6tov4 listenport=443 listenaddress=2409:8a1e:70c2:4af0:41a1:144c:88aa:2441 connectaddress=192.168.182.50 connectport=443\n",
    "\n",
    "# 查看刚才配置的转发\n",
    "netsh interface portproxy show v6tov4\n",
    "\n",
    "# 查看本机监听端口，过滤\n",
    "netstat -ano | findstr \":80\"\n",
    "\n",
    "# 删除上面的配置\n",
    "netsh interface portproxy delete v6tov4 listenport=80 listenaddress=2409:8a1e:70c2:4af0:41a1:144c:88aa:2441"
   ]
  }
 ],
 "metadata": {
  "kernelspec": {
   "display_name": "Python 3",
   "language": "python",
   "name": "python3"
  },
  "language_info": {
   "codemirror_mode": {
    "name": "ipython",
    "version": 3
   },
   "file_extension": ".py",
   "mimetype": "text/x-python",
   "name": "python",
   "nbconvert_exporter": "python",
   "pygments_lexer": "ipython3",
   "version": "3.11.2"
  },
  "orig_nbformat": 4
 },
 "nbformat": 4,
 "nbformat_minor": 2
}
