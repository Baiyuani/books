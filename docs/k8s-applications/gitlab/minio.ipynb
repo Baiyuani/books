{
 "cells": [
  {
   "attachments": {},
   "cell_type": "markdown",
   "metadata": {},
   "source": [
    "## https://min.io/docs/minio/linux/reference/minio-mc.html\n",
    "\n",
    "\n",
    "[mc ilm 设置对象生命周期](https://www.hxstrive.com/subject/minio.htm?id=611&p=597)"
   ]
  },
  {
   "cell_type": "code",
   "execution_count": null,
   "metadata": {
    "vscode": {
     "languageId": "shellscript"
    }
   },
   "outputs": [],
   "source": [
    "## 安装mc命令行\n",
    "\n",
    "wget https://dl.min.io/client/mc/release/linux-amd64/mc\n",
    "chmod +x mc\n",
    "\n"
   ]
  },
  {
   "cell_type": "code",
   "execution_count": null,
   "metadata": {
    "vscode": {
     "languageId": "shellscript"
    }
   },
   "outputs": [],
   "source": [
    "## 添加minio配置\n",
    "./mc config host add ketanyun http://10.244.163.88:9000\n",
    "\n",
    "## 列出所有host\n",
    "./mc config host list\n",
    "\n",
    "## 查看一个host中的所有buckets\n",
    "./mc ls ketanyun\n",
    "\n",
    "## 添加ilm策略，数据保留180天\n",
    "./mc ilm add --expiry-days 180 ketanyun/runner\n",
    "\n",
    "## 查看指定bucket的ilm策略（生命周期策略）\n",
    "./mc ilm ls ketanyun/runner\n",
    "\n",
    "┌───────────────────────────────────────────────────────────────────────────────────────┐\n",
    "│ Expiration for latest version (Expiration)                                            │\n",
    "├──────────────────────┬─────────┬────────┬──────┬────────────────┬─────────────────────┤\n",
    "│ ID                   │ STATUS  │ PREFIX │ TAGS │ DAYS TO EXPIRE │ EXPIRE DELETEMARKER │\n",
    "├──────────────────────┼─────────┼────────┼──────┼────────────────┼─────────────────────┤\n",
    "│ ci9t02ik5q2hvnbimsc0 │ Enabled │ -      │ -    │            180 │ false               │\n",
    "└──────────────────────┴─────────┴────────┴──────┴────────────────┴─────────────────────┘\n",
    "\n",
    "## 移除指定的ilm策略\n",
    "./mc ilm rm --id \"ci9t02ik5q2hvnbimsc0\" ketanyun/runner"
   ]
  }
 ],
 "metadata": {
  "language_info": {
   "name": "python"
  },
  "orig_nbformat": 4
 },
 "nbformat": 4,
 "nbformat_minor": 2
}
