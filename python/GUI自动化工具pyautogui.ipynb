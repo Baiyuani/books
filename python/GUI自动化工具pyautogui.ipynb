{
 "cells": [
  {
   "attachments": {},
   "cell_type": "markdown",
   "metadata": {},
   "source": [
    "##  GUI自动化工具pyautogui\n",
    "> https://mp.weixin.qq.com/s/GS5VYhCSOu_qJ8VYAoJk1Q"
   ]
  },
  {
   "cell_type": "markdown",
   "source": [
    "# 安装pyautogui\n",
    "pip3 install pyautogui"
   ],
   "metadata": {
    "collapsed": false
   }
  },
  {
   "cell_type": "code",
   "execution_count": 1,
   "metadata": {},
   "outputs": [],
   "source": [
    "import pyautogui\n",
    "\n",
    "# 移动鼠标\n",
    "pyautogui.moveTo(200, 400, duration=2)\n",
    "pyautogui.moveRel(200, 500, duration=2)"
   ]
  },
  {
   "cell_type": "code",
   "execution_count": 2,
   "metadata": {},
   "outputs": [
    {
     "name": "stdout",
     "output_type": "stream",
     "text": [
      "Point(x=711, y=104)\n"
     ]
    }
   ],
   "source": [
    "# 获取当前鼠标位置\n",
    "print(pyautogui.position())"
   ]
  },
  {
   "cell_type": "code",
   "execution_count": null,
   "outputs": [],
   "source": [
    "# 鼠标点击，默认左键\n",
    "pyautogui.click(100, 100)\n",
    "# 单击左键\n",
    "pyautogui.click(100, 100, button='left')\n",
    "# 单击右键\n",
    "pyautogui.click(100, 300, button='right')\n",
    "# 单击中间\n",
    "pyautogui.click(100, 300, button='middle')\n",
    "\n",
    "\n",
    "# 双击左键\n",
    "pyautogui.doubleClick(10,10)\n",
    "# 双击右键\n",
    "pyautogui.rightClick(10,10)\n",
    "# 双击中键\n",
    "pyautogui.middleClick(10,10)\n",
    "\n",
    "# 鼠标按下\n",
    "pyautogui.mouseDown()\n",
    "# 鼠标释放\n",
    "pyautogui.mouseUp()\n",
    "\n",
    "# 鼠标拖动到指定坐标位置，并且设置操作时间\n",
    "pyautogui.dragTo(100,300,duration=1)\n",
    "\n",
    "# 按照方向拖动鼠标\n",
    "pyautogui.dragRel(100,300,duration=4)\n",
    "\n",
    "# 滚动鼠标到达向上或者向下的位置\n",
    "pyautogui.scroll(300)"
   ],
   "metadata": {
    "collapsed": false
   }
  }
 ],
 "metadata": {
  "kernelspec": {
   "display_name": "Python 3",
   "language": "python",
   "name": "python3"
  },
  "language_info": {
   "codemirror_mode": {
    "name": "ipython",
    "version": 3
   },
   "file_extension": ".py",
   "mimetype": "text/x-python",
   "name": "python",
   "nbconvert_exporter": "python",
   "pygments_lexer": "ipython3",
   "version": "3.11.1"
  },
  "orig_nbformat": 4,
  "vscode": {
   "interpreter": {
    "hash": "5238573367df39f7286bb46f9ff5f08f63a01a80960060ce41e3c79b190280fa"
   }
  }
 },
 "nbformat": 4,
 "nbformat_minor": 2
}
